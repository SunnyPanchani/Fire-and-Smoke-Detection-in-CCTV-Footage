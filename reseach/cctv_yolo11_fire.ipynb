{
  "nbformat": 4,
  "nbformat_minor": 0,
  "metadata": {
    "colab": {
      "provenance": [],
      "gpuType": "T4"
    },
    "kernelspec": {
      "name": "python3",
      "display_name": "Python 3"
    },
    "language_info": {
      "name": "python"
    },
    "accelerator": "GPU"
  },
  "cells": [
    {
      "cell_type": "code",
      "execution_count": 1,
      "metadata": {
        "id": "7CxrP8LWIfwg",
        "outputId": "ceab285c-d338-470b-cf79-7dde022d2328",
        "colab": {
          "base_uri": "https://localhost:8080/"
        }
      },
      "outputs": [
        {
          "output_type": "stream",
          "name": "stdout",
          "text": [
            "Tue Aug 12 09:50:19 2025       \n",
            "+-----------------------------------------------------------------------------------------+\n",
            "| NVIDIA-SMI 550.54.15              Driver Version: 550.54.15      CUDA Version: 12.4     |\n",
            "|-----------------------------------------+------------------------+----------------------+\n",
            "| GPU  Name                 Persistence-M | Bus-Id          Disp.A | Volatile Uncorr. ECC |\n",
            "| Fan  Temp   Perf          Pwr:Usage/Cap |           Memory-Usage | GPU-Util  Compute M. |\n",
            "|                                         |                        |               MIG M. |\n",
            "|=========================================+========================+======================|\n",
            "|   0  Tesla T4                       Off |   00000000:00:04.0 Off |                    0 |\n",
            "| N/A   56C    P8             10W /   70W |       0MiB /  15360MiB |      0%      Default |\n",
            "|                                         |                        |                  N/A |\n",
            "+-----------------------------------------+------------------------+----------------------+\n",
            "                                                                                         \n",
            "+-----------------------------------------------------------------------------------------+\n",
            "| Processes:                                                                              |\n",
            "|  GPU   GI   CI        PID   Type   Process name                              GPU Memory |\n",
            "|        ID   ID                                                               Usage      |\n",
            "|=========================================================================================|\n",
            "|  No running processes found                                                             |\n",
            "+-----------------------------------------------------------------------------------------+\n"
          ]
        }
      ],
      "source": [
        "!nvidia-smi"
      ]
    },
    {
      "cell_type": "code",
      "source": [
        "!pip install ultralytics"
      ],
      "metadata": {
        "colab": {
          "base_uri": "https://localhost:8080/"
        },
        "id": "IaA4zkF9uKuh",
        "outputId": "984e3619-edd1-4255-f40c-42f4147d2905"
      },
      "execution_count": 2,
      "outputs": [
        {
          "output_type": "stream",
          "name": "stdout",
          "text": [
            "Collecting ultralytics\n",
            "  Downloading ultralytics-8.3.177-py3-none-any.whl.metadata (37 kB)\n",
            "Requirement already satisfied: numpy>=1.23.0 in /usr/local/lib/python3.11/dist-packages (from ultralytics) (2.0.2)\n",
            "Requirement already satisfied: matplotlib>=3.3.0 in /usr/local/lib/python3.11/dist-packages (from ultralytics) (3.10.0)\n",
            "Requirement already satisfied: opencv-python>=4.6.0 in /usr/local/lib/python3.11/dist-packages (from ultralytics) (4.12.0.88)\n",
            "Requirement already satisfied: pillow>=7.1.2 in /usr/local/lib/python3.11/dist-packages (from ultralytics) (11.3.0)\n",
            "Requirement already satisfied: pyyaml>=5.3.1 in /usr/local/lib/python3.11/dist-packages (from ultralytics) (6.0.2)\n",
            "Requirement already satisfied: requests>=2.23.0 in /usr/local/lib/python3.11/dist-packages (from ultralytics) (2.32.3)\n",
            "Requirement already satisfied: scipy>=1.4.1 in /usr/local/lib/python3.11/dist-packages (from ultralytics) (1.16.1)\n",
            "Requirement already satisfied: torch>=1.8.0 in /usr/local/lib/python3.11/dist-packages (from ultralytics) (2.6.0+cu124)\n",
            "Requirement already satisfied: torchvision>=0.9.0 in /usr/local/lib/python3.11/dist-packages (from ultralytics) (0.21.0+cu124)\n",
            "Requirement already satisfied: tqdm>=4.64.0 in /usr/local/lib/python3.11/dist-packages (from ultralytics) (4.67.1)\n",
            "Requirement already satisfied: psutil in /usr/local/lib/python3.11/dist-packages (from ultralytics) (5.9.5)\n",
            "Requirement already satisfied: py-cpuinfo in /usr/local/lib/python3.11/dist-packages (from ultralytics) (9.0.0)\n",
            "Requirement already satisfied: pandas>=1.1.4 in /usr/local/lib/python3.11/dist-packages (from ultralytics) (2.2.2)\n",
            "Collecting ultralytics-thop>=2.0.0 (from ultralytics)\n",
            "  Downloading ultralytics_thop-2.0.15-py3-none-any.whl.metadata (14 kB)\n",
            "Requirement already satisfied: contourpy>=1.0.1 in /usr/local/lib/python3.11/dist-packages (from matplotlib>=3.3.0->ultralytics) (1.3.3)\n",
            "Requirement already satisfied: cycler>=0.10 in /usr/local/lib/python3.11/dist-packages (from matplotlib>=3.3.0->ultralytics) (0.12.1)\n",
            "Requirement already satisfied: fonttools>=4.22.0 in /usr/local/lib/python3.11/dist-packages (from matplotlib>=3.3.0->ultralytics) (4.59.0)\n",
            "Requirement already satisfied: kiwisolver>=1.3.1 in /usr/local/lib/python3.11/dist-packages (from matplotlib>=3.3.0->ultralytics) (1.4.8)\n",
            "Requirement already satisfied: packaging>=20.0 in /usr/local/lib/python3.11/dist-packages (from matplotlib>=3.3.0->ultralytics) (25.0)\n",
            "Requirement already satisfied: pyparsing>=2.3.1 in /usr/local/lib/python3.11/dist-packages (from matplotlib>=3.3.0->ultralytics) (3.2.3)\n",
            "Requirement already satisfied: python-dateutil>=2.7 in /usr/local/lib/python3.11/dist-packages (from matplotlib>=3.3.0->ultralytics) (2.9.0.post0)\n",
            "Requirement already satisfied: pytz>=2020.1 in /usr/local/lib/python3.11/dist-packages (from pandas>=1.1.4->ultralytics) (2025.2)\n",
            "Requirement already satisfied: tzdata>=2022.7 in /usr/local/lib/python3.11/dist-packages (from pandas>=1.1.4->ultralytics) (2025.2)\n",
            "Requirement already satisfied: charset-normalizer<4,>=2 in /usr/local/lib/python3.11/dist-packages (from requests>=2.23.0->ultralytics) (3.4.2)\n",
            "Requirement already satisfied: idna<4,>=2.5 in /usr/local/lib/python3.11/dist-packages (from requests>=2.23.0->ultralytics) (3.10)\n",
            "Requirement already satisfied: urllib3<3,>=1.21.1 in /usr/local/lib/python3.11/dist-packages (from requests>=2.23.0->ultralytics) (2.5.0)\n",
            "Requirement already satisfied: certifi>=2017.4.17 in /usr/local/lib/python3.11/dist-packages (from requests>=2.23.0->ultralytics) (2025.8.3)\n",
            "Requirement already satisfied: filelock in /usr/local/lib/python3.11/dist-packages (from torch>=1.8.0->ultralytics) (3.18.0)\n",
            "Requirement already satisfied: typing-extensions>=4.10.0 in /usr/local/lib/python3.11/dist-packages (from torch>=1.8.0->ultralytics) (4.14.1)\n",
            "Requirement already satisfied: networkx in /usr/local/lib/python3.11/dist-packages (from torch>=1.8.0->ultralytics) (3.5)\n",
            "Requirement already satisfied: jinja2 in /usr/local/lib/python3.11/dist-packages (from torch>=1.8.0->ultralytics) (3.1.6)\n",
            "Requirement already satisfied: fsspec in /usr/local/lib/python3.11/dist-packages (from torch>=1.8.0->ultralytics) (2025.3.0)\n",
            "Collecting nvidia-cuda-nvrtc-cu12==12.4.127 (from torch>=1.8.0->ultralytics)\n",
            "  Downloading nvidia_cuda_nvrtc_cu12-12.4.127-py3-none-manylinux2014_x86_64.whl.metadata (1.5 kB)\n",
            "Collecting nvidia-cuda-runtime-cu12==12.4.127 (from torch>=1.8.0->ultralytics)\n",
            "  Downloading nvidia_cuda_runtime_cu12-12.4.127-py3-none-manylinux2014_x86_64.whl.metadata (1.5 kB)\n",
            "Collecting nvidia-cuda-cupti-cu12==12.4.127 (from torch>=1.8.0->ultralytics)\n",
            "  Downloading nvidia_cuda_cupti_cu12-12.4.127-py3-none-manylinux2014_x86_64.whl.metadata (1.6 kB)\n",
            "Collecting nvidia-cudnn-cu12==9.1.0.70 (from torch>=1.8.0->ultralytics)\n",
            "  Downloading nvidia_cudnn_cu12-9.1.0.70-py3-none-manylinux2014_x86_64.whl.metadata (1.6 kB)\n",
            "Collecting nvidia-cublas-cu12==12.4.5.8 (from torch>=1.8.0->ultralytics)\n",
            "  Downloading nvidia_cublas_cu12-12.4.5.8-py3-none-manylinux2014_x86_64.whl.metadata (1.5 kB)\n",
            "Collecting nvidia-cufft-cu12==11.2.1.3 (from torch>=1.8.0->ultralytics)\n",
            "  Downloading nvidia_cufft_cu12-11.2.1.3-py3-none-manylinux2014_x86_64.whl.metadata (1.5 kB)\n",
            "Collecting nvidia-curand-cu12==10.3.5.147 (from torch>=1.8.0->ultralytics)\n",
            "  Downloading nvidia_curand_cu12-10.3.5.147-py3-none-manylinux2014_x86_64.whl.metadata (1.5 kB)\n",
            "Collecting nvidia-cusolver-cu12==11.6.1.9 (from torch>=1.8.0->ultralytics)\n",
            "  Downloading nvidia_cusolver_cu12-11.6.1.9-py3-none-manylinux2014_x86_64.whl.metadata (1.6 kB)\n",
            "Collecting nvidia-cusparse-cu12==12.3.1.170 (from torch>=1.8.0->ultralytics)\n",
            "  Downloading nvidia_cusparse_cu12-12.3.1.170-py3-none-manylinux2014_x86_64.whl.metadata (1.6 kB)\n",
            "Requirement already satisfied: nvidia-cusparselt-cu12==0.6.2 in /usr/local/lib/python3.11/dist-packages (from torch>=1.8.0->ultralytics) (0.6.2)\n",
            "Collecting nvidia-nccl-cu12==2.21.5 (from torch>=1.8.0->ultralytics)\n",
            "  Downloading nvidia_nccl_cu12-2.21.5-py3-none-manylinux2014_x86_64.whl.metadata (1.8 kB)\n",
            "Requirement already satisfied: nvidia-nvtx-cu12==12.4.127 in /usr/local/lib/python3.11/dist-packages (from torch>=1.8.0->ultralytics) (12.4.127)\n",
            "Collecting nvidia-nvjitlink-cu12==12.4.127 (from torch>=1.8.0->ultralytics)\n",
            "  Downloading nvidia_nvjitlink_cu12-12.4.127-py3-none-manylinux2014_x86_64.whl.metadata (1.5 kB)\n",
            "Requirement already satisfied: triton==3.2.0 in /usr/local/lib/python3.11/dist-packages (from torch>=1.8.0->ultralytics) (3.2.0)\n",
            "Requirement already satisfied: sympy==1.13.1 in /usr/local/lib/python3.11/dist-packages (from torch>=1.8.0->ultralytics) (1.13.1)\n",
            "Requirement already satisfied: mpmath<1.4,>=1.1.0 in /usr/local/lib/python3.11/dist-packages (from sympy==1.13.1->torch>=1.8.0->ultralytics) (1.3.0)\n",
            "Requirement already satisfied: six>=1.5 in /usr/local/lib/python3.11/dist-packages (from python-dateutil>=2.7->matplotlib>=3.3.0->ultralytics) (1.17.0)\n",
            "Requirement already satisfied: MarkupSafe>=2.0 in /usr/local/lib/python3.11/dist-packages (from jinja2->torch>=1.8.0->ultralytics) (3.0.2)\n",
            "Downloading ultralytics-8.3.177-py3-none-any.whl (1.0 MB)\n",
            "\u001b[2K   \u001b[90m━━━━━━━━━━━━━━━━━━━━━━━━━━━━━━━━━━━━━━━━\u001b[0m \u001b[32m1.0/1.0 MB\u001b[0m \u001b[31m4.5 MB/s\u001b[0m eta \u001b[36m0:00:00\u001b[0m\n",
            "\u001b[?25hDownloading nvidia_cublas_cu12-12.4.5.8-py3-none-manylinux2014_x86_64.whl (363.4 MB)\n",
            "\u001b[2K   \u001b[90m━━━━━━━━━━━━━━━━━━━━━━━━━━━━━━━━━━━━━━━━\u001b[0m \u001b[32m363.4/363.4 MB\u001b[0m \u001b[31m4.6 MB/s\u001b[0m eta \u001b[36m0:00:00\u001b[0m\n",
            "\u001b[?25hDownloading nvidia_cuda_cupti_cu12-12.4.127-py3-none-manylinux2014_x86_64.whl (13.8 MB)\n",
            "\u001b[2K   \u001b[90m━━━━━━━━━━━━━━━━━━━━━━━━━━━━━━━━━━━━━━━━\u001b[0m \u001b[32m13.8/13.8 MB\u001b[0m \u001b[31m38.8 MB/s\u001b[0m eta \u001b[36m0:00:00\u001b[0m\n",
            "\u001b[?25hDownloading nvidia_cuda_nvrtc_cu12-12.4.127-py3-none-manylinux2014_x86_64.whl (24.6 MB)\n",
            "\u001b[2K   \u001b[90m━━━━━━━━━━━━━━━━━━━━━━━━━━━━━━━━━━━━━━━━\u001b[0m \u001b[32m24.6/24.6 MB\u001b[0m \u001b[31m26.2 MB/s\u001b[0m eta \u001b[36m0:00:00\u001b[0m\n",
            "\u001b[?25hDownloading nvidia_cuda_runtime_cu12-12.4.127-py3-none-manylinux2014_x86_64.whl (883 kB)\n",
            "\u001b[2K   \u001b[90m━━━━━━━━━━━━━━━━━━━━━━━━━━━━━━━━━━━━━━━━\u001b[0m \u001b[32m883.7/883.7 kB\u001b[0m \u001b[31m51.6 MB/s\u001b[0m eta \u001b[36m0:00:00\u001b[0m\n",
            "\u001b[?25hDownloading nvidia_cudnn_cu12-9.1.0.70-py3-none-manylinux2014_x86_64.whl (664.8 MB)\n",
            "\u001b[2K   \u001b[90m━━━━━━━━━━━━━━━━━━━━━━━━━━━━━━━━━━━━━━━━\u001b[0m \u001b[32m664.8/664.8 MB\u001b[0m \u001b[31m2.3 MB/s\u001b[0m eta \u001b[36m0:00:00\u001b[0m\n",
            "\u001b[?25hDownloading nvidia_cufft_cu12-11.2.1.3-py3-none-manylinux2014_x86_64.whl (211.5 MB)\n",
            "\u001b[2K   \u001b[90m━━━━━━━━━━━━━━━━━━━━━━━━━━━━━━━━━━━━━━━━\u001b[0m \u001b[32m211.5/211.5 MB\u001b[0m \u001b[31m5.0 MB/s\u001b[0m eta \u001b[36m0:00:00\u001b[0m\n",
            "\u001b[?25hDownloading nvidia_curand_cu12-10.3.5.147-py3-none-manylinux2014_x86_64.whl (56.3 MB)\n",
            "\u001b[2K   \u001b[90m━━━━━━━━━━━━━━━━━━━━━━━━━━━━━━━━━━━━━━━━\u001b[0m \u001b[32m56.3/56.3 MB\u001b[0m \u001b[31m10.9 MB/s\u001b[0m eta \u001b[36m0:00:00\u001b[0m\n",
            "\u001b[?25hDownloading nvidia_cusolver_cu12-11.6.1.9-py3-none-manylinux2014_x86_64.whl (127.9 MB)\n",
            "\u001b[2K   \u001b[90m━━━━━━━━━━━━━━━━━━━━━━━━━━━━━━━━━━━━━━━━\u001b[0m \u001b[32m127.9/127.9 MB\u001b[0m \u001b[31m10.2 MB/s\u001b[0m eta \u001b[36m0:00:00\u001b[0m\n",
            "\u001b[?25hDownloading nvidia_cusparse_cu12-12.3.1.170-py3-none-manylinux2014_x86_64.whl (207.5 MB)\n",
            "\u001b[2K   \u001b[90m━━━━━━━━━━━━━━━━━━━━━━━━━━━━━━━━━━━━━━━━\u001b[0m \u001b[32m207.5/207.5 MB\u001b[0m \u001b[31m6.3 MB/s\u001b[0m eta \u001b[36m0:00:00\u001b[0m\n",
            "\u001b[?25hDownloading nvidia_nccl_cu12-2.21.5-py3-none-manylinux2014_x86_64.whl (188.7 MB)\n",
            "\u001b[2K   \u001b[90m━━━━━━━━━━━━━━━━━━━━━━━━━━━━━━━━━━━━━━━━\u001b[0m \u001b[32m188.7/188.7 MB\u001b[0m \u001b[31m5.6 MB/s\u001b[0m eta \u001b[36m0:00:00\u001b[0m\n",
            "\u001b[?25hDownloading nvidia_nvjitlink_cu12-12.4.127-py3-none-manylinux2014_x86_64.whl (21.1 MB)\n",
            "\u001b[2K   \u001b[90m━━━━━━━━━━━━━━━━━━━━━━━━━━━━━━━━━━━━━━━━\u001b[0m \u001b[32m21.1/21.1 MB\u001b[0m \u001b[31m34.0 MB/s\u001b[0m eta \u001b[36m0:00:00\u001b[0m\n",
            "\u001b[?25hDownloading ultralytics_thop-2.0.15-py3-none-any.whl (28 kB)\n",
            "Installing collected packages: nvidia-nvjitlink-cu12, nvidia-nccl-cu12, nvidia-curand-cu12, nvidia-cufft-cu12, nvidia-cuda-runtime-cu12, nvidia-cuda-nvrtc-cu12, nvidia-cuda-cupti-cu12, nvidia-cublas-cu12, nvidia-cusparse-cu12, nvidia-cudnn-cu12, nvidia-cusolver-cu12, ultralytics-thop, ultralytics\n",
            "  Attempting uninstall: nvidia-nvjitlink-cu12\n",
            "    Found existing installation: nvidia-nvjitlink-cu12 12.5.82\n",
            "    Uninstalling nvidia-nvjitlink-cu12-12.5.82:\n",
            "      Successfully uninstalled nvidia-nvjitlink-cu12-12.5.82\n",
            "  Attempting uninstall: nvidia-nccl-cu12\n",
            "    Found existing installation: nvidia-nccl-cu12 2.23.4\n",
            "    Uninstalling nvidia-nccl-cu12-2.23.4:\n",
            "      Successfully uninstalled nvidia-nccl-cu12-2.23.4\n",
            "  Attempting uninstall: nvidia-curand-cu12\n",
            "    Found existing installation: nvidia-curand-cu12 10.3.6.82\n",
            "    Uninstalling nvidia-curand-cu12-10.3.6.82:\n",
            "      Successfully uninstalled nvidia-curand-cu12-10.3.6.82\n",
            "  Attempting uninstall: nvidia-cufft-cu12\n",
            "    Found existing installation: nvidia-cufft-cu12 11.2.3.61\n",
            "    Uninstalling nvidia-cufft-cu12-11.2.3.61:\n",
            "      Successfully uninstalled nvidia-cufft-cu12-11.2.3.61\n",
            "  Attempting uninstall: nvidia-cuda-runtime-cu12\n",
            "    Found existing installation: nvidia-cuda-runtime-cu12 12.5.82\n",
            "    Uninstalling nvidia-cuda-runtime-cu12-12.5.82:\n",
            "      Successfully uninstalled nvidia-cuda-runtime-cu12-12.5.82\n",
            "  Attempting uninstall: nvidia-cuda-nvrtc-cu12\n",
            "    Found existing installation: nvidia-cuda-nvrtc-cu12 12.5.82\n",
            "    Uninstalling nvidia-cuda-nvrtc-cu12-12.5.82:\n",
            "      Successfully uninstalled nvidia-cuda-nvrtc-cu12-12.5.82\n",
            "  Attempting uninstall: nvidia-cuda-cupti-cu12\n",
            "    Found existing installation: nvidia-cuda-cupti-cu12 12.5.82\n",
            "    Uninstalling nvidia-cuda-cupti-cu12-12.5.82:\n",
            "      Successfully uninstalled nvidia-cuda-cupti-cu12-12.5.82\n",
            "  Attempting uninstall: nvidia-cublas-cu12\n",
            "    Found existing installation: nvidia-cublas-cu12 12.5.3.2\n",
            "    Uninstalling nvidia-cublas-cu12-12.5.3.2:\n",
            "      Successfully uninstalled nvidia-cublas-cu12-12.5.3.2\n",
            "  Attempting uninstall: nvidia-cusparse-cu12\n",
            "    Found existing installation: nvidia-cusparse-cu12 12.5.1.3\n",
            "    Uninstalling nvidia-cusparse-cu12-12.5.1.3:\n",
            "      Successfully uninstalled nvidia-cusparse-cu12-12.5.1.3\n",
            "  Attempting uninstall: nvidia-cudnn-cu12\n",
            "    Found existing installation: nvidia-cudnn-cu12 9.3.0.75\n",
            "    Uninstalling nvidia-cudnn-cu12-9.3.0.75:\n",
            "      Successfully uninstalled nvidia-cudnn-cu12-9.3.0.75\n",
            "  Attempting uninstall: nvidia-cusolver-cu12\n",
            "    Found existing installation: nvidia-cusolver-cu12 11.6.3.83\n",
            "    Uninstalling nvidia-cusolver-cu12-11.6.3.83:\n",
            "      Successfully uninstalled nvidia-cusolver-cu12-11.6.3.83\n",
            "Successfully installed nvidia-cublas-cu12-12.4.5.8 nvidia-cuda-cupti-cu12-12.4.127 nvidia-cuda-nvrtc-cu12-12.4.127 nvidia-cuda-runtime-cu12-12.4.127 nvidia-cudnn-cu12-9.1.0.70 nvidia-cufft-cu12-11.2.1.3 nvidia-curand-cu12-10.3.5.147 nvidia-cusolver-cu12-11.6.1.9 nvidia-cusparse-cu12-12.3.1.170 nvidia-nccl-cu12-2.21.5 nvidia-nvjitlink-cu12-12.4.127 ultralytics-8.3.177 ultralytics-thop-2.0.15\n"
          ]
        }
      ]
    },
    {
      "cell_type": "code",
      "source": [
        "url =\"https://drive.google.com/file/d/1snsU4YNEImcK-hLKyNC2pA2wTo5GKXNH/view?usp=sharing\"\n",
        "\n",
        "import gdown\n",
        "file_id = url.split('/')[-2]\n",
        "prefix = 'https://drive.google.com/uc?id='\n",
        "gdown.download(prefix + file_id, 'fire_and_smoke_detection.zip', quiet=False)\n",
        "\n",
        "!unzip fire_and_smoke_detection.zip\n",
        "!rm -rf fire_and_smoke_detection.zip"
      ],
      "metadata": {
        "colab": {
          "base_uri": "https://localhost:8080/"
        },
        "id": "jFVVByGauQKw",
        "outputId": "763243ef-bd89-412d-8905-0b5263c9505d"
      },
      "execution_count": 3,
      "outputs": [
        {
          "output_type": "stream",
          "name": "stderr",
          "text": [
            "Downloading...\n",
            "From: https://drive.google.com/uc?id=1snsU4YNEImcK-hLKyNC2pA2wTo5GKXNH\n",
            "To: /content/fire_and_smoke_detection.zip\n",
            "100%|██████████| 15.8M/15.8M [00:00<00:00, 60.6MB/s]\n"
          ]
        },
        {
          "output_type": "stream",
          "name": "stdout",
          "text": [
            "Archive:  fire_and_smoke_detection.zip\n",
            "   creating: fire-img_data/\n",
            "   creating: fire-img_data/train/\n",
            "   creating: fire-img_data/train/default/\n",
            "  inflating: fire-img_data/train/default/img_1.jpg  \n",
            "  inflating: fire-img_data/train/default/img_10.jpg  \n",
            "  inflating: fire-img_data/train/default/img_100.jpg  \n",
            "  inflating: fire-img_data/train/default/img_1002.jpg  \n",
            "  inflating: fire-img_data/train/default/img_1003.jpg  \n",
            "  inflating: fire-img_data/train/default/img_1007.jpg  \n",
            "  inflating: fire-img_data/train/default/img_101.jpg  \n",
            "  inflating: fire-img_data/train/default/img_1014.jpg  \n",
            "  inflating: fire-img_data/train/default/img_1018.jpg  \n",
            "  inflating: fire-img_data/train/default/img_102.jpg  \n",
            "  inflating: fire-img_data/train/default/img_1027.jpg  \n",
            "  inflating: fire-img_data/train/default/img_1042.jpg  \n",
            "  inflating: fire-img_data/train/default/img_1043.jpg  \n",
            "  inflating: fire-img_data/train/default/img_1046.jpg  \n",
            "  inflating: fire-img_data/train/default/img_1052.jpg  \n",
            "  inflating: fire-img_data/train/default/img_107.jpg  \n",
            "  inflating: fire-img_data/train/default/img_108.jpg  \n",
            "  inflating: fire-img_data/train/default/img_109.jpg  \n",
            "  inflating: fire-img_data/train/default/img_118.jpg  \n",
            "  inflating: fire-img_data/train/default/img_12.jpg  \n",
            "  inflating: fire-img_data/train/default/img_14.jpg  \n",
            "  inflating: fire-img_data/train/default/img_15.jpg  \n",
            "  inflating: fire-img_data/train/default/img_16.jpg  \n",
            "  inflating: fire-img_data/train/default/img_17.jpg  \n",
            "  inflating: fire-img_data/train/default/img_18.jpg  \n",
            "  inflating: fire-img_data/train/default/img_19.jpg  \n",
            "  inflating: fire-img_data/train/default/img_20.jpg  \n",
            "  inflating: fire-img_data/train/default/img_200.jpg  \n",
            "  inflating: fire-img_data/train/default/img_201.jpg  \n",
            "  inflating: fire-img_data/train/default/img_202.jpg  \n",
            "  inflating: fire-img_data/train/default/img_203.jpg  \n",
            "  inflating: fire-img_data/train/default/img_204.jpg  \n",
            "  inflating: fire-img_data/train/default/img_205.jpg  \n",
            "  inflating: fire-img_data/train/default/img_206.jpg  \n",
            "  inflating: fire-img_data/train/default/img_21.jpg  \n",
            "  inflating: fire-img_data/train/default/img_22.jpg  \n",
            "  inflating: fire-img_data/train/default/img_23.jpg  \n",
            "  inflating: fire-img_data/train/default/img_24.jpg  \n",
            "  inflating: fire-img_data/train/default/img_29.jpg  \n",
            "  inflating: fire-img_data/train/default/img_3.jpg  \n",
            "  inflating: fire-img_data/train/default/img_3000.jpg  \n",
            "  inflating: fire-img_data/train/default/img_335.jpg  \n",
            "  inflating: fire-img_data/train/default/img_336.jpg  \n",
            "  inflating: fire-img_data/train/default/img_337.jpg  \n",
            "  inflating: fire-img_data/train/default/img_338.jpg  \n",
            "  inflating: fire-img_data/train/default/img_339.jpg  \n",
            "  inflating: fire-img_data/train/default/img_340.jpg  \n",
            "  inflating: fire-img_data/train/default/img_341.jpg  \n",
            "  inflating: fire-img_data/train/default/img_4.jpg  \n",
            "  inflating: fire-img_data/train/default/img_400.jpg  \n",
            "  inflating: fire-img_data/train/default/img_471.jpg  \n",
            "  inflating: fire-img_data/train/default/img_472.jpg  \n",
            "  inflating: fire-img_data/train/default/img_473.jpg  \n",
            "  inflating: fire-img_data/train/default/img_488.jpg  \n",
            "  inflating: fire-img_data/train/default/img_489.jpg  \n",
            "  inflating: fire-img_data/train/default/img_490.jpg  \n",
            "  inflating: fire-img_data/train/default/img_491.jpg  \n",
            "  inflating: fire-img_data/train/default/img_492.jpg  \n",
            "  inflating: fire-img_data/train/default/img_493.jpg  \n",
            "  inflating: fire-img_data/train/default/img_494.jpg  \n",
            "  inflating: fire-img_data/train/default/img_495.jpg  \n",
            "  inflating: fire-img_data/train/default/img_496.jpg  \n",
            "  inflating: fire-img_data/train/default/img_497.jpg  \n",
            "  inflating: fire-img_data/train/default/img_50.jpg  \n",
            "  inflating: fire-img_data/train/default/img_501.jpg  \n",
            "  inflating: fire-img_data/train/default/img_502.jpg  \n",
            "  inflating: fire-img_data/train/default/img_51.jpg  \n",
            "  inflating: fire-img_data/train/default/img_519.jpg  \n",
            "  inflating: fire-img_data/train/default/img_52 (2).jpg  \n",
            "  inflating: fire-img_data/train/default/img_52.jpg  \n",
            "  inflating: fire-img_data/train/default/img_520.jpg  \n",
            "  inflating: fire-img_data/train/default/img_521.jpg  \n",
            "  inflating: fire-img_data/train/default/img_522.jpg  \n",
            "  inflating: fire-img_data/train/default/img_523.jpg  \n",
            "  inflating: fire-img_data/train/default/img_524.jpg  \n",
            "  inflating: fire-img_data/train/default/img_53 (2).jpg  \n",
            "  inflating: fire-img_data/train/default/img_53.jpg  \n",
            "  inflating: fire-img_data/train/default/img_530.jpg  \n",
            "  inflating: fire-img_data/train/default/img_531.jpg  \n",
            "  inflating: fire-img_data/train/default/img_532.jpg  \n",
            "  inflating: fire-img_data/train/default/img_533.jpg  \n",
            "  inflating: fire-img_data/train/default/img_537.jpg  \n",
            "  inflating: fire-img_data/train/default/img_538.jpg  \n",
            "  inflating: fire-img_data/train/default/img_539.jpg  \n",
            "  inflating: fire-img_data/train/default/img_54 (2).jpg  \n",
            "  inflating: fire-img_data/train/default/img_54.jpg  \n",
            "  inflating: fire-img_data/train/default/img_540.jpg  \n",
            "  inflating: fire-img_data/train/default/img_541.jpg  \n",
            "  inflating: fire-img_data/train/default/img_542.jpg  \n",
            "  inflating: fire-img_data/train/default/img_543.jpg  \n",
            "  inflating: fire-img_data/train/default/img_55 (2).jpg  \n",
            "  inflating: fire-img_data/train/default/img_55.jpg  \n",
            "  inflating: fire-img_data/train/default/img_56.jpg  \n",
            "  inflating: fire-img_data/train/default/img_57.jpg  \n",
            "  inflating: fire-img_data/train/default/img_58.jpg  \n",
            "  inflating: fire-img_data/train/default/img_59.jpg  \n",
            "  inflating: fire-img_data/train/default/img_60.jpg  \n",
            "  inflating: fire-img_data/train/default/img_601.jpg  \n",
            "  inflating: fire-img_data/train/default/img_602.jpg  \n",
            "  inflating: fire-img_data/train/default/img_603.jpg  \n",
            "  inflating: fire-img_data/train/default/img_604.jpg  \n",
            "  inflating: fire-img_data/train/default/img_61.jpg  \n",
            "  inflating: fire-img_data/train/default/img_62 (2).jpg  \n",
            "  inflating: fire-img_data/train/default/img_62.jpg  \n",
            "  inflating: fire-img_data/train/default/img_63 (2).jpg  \n",
            "  inflating: fire-img_data/train/default/img_63.jpg  \n",
            "  inflating: fire-img_data/train/default/img_66.jpg  \n",
            "  inflating: fire-img_data/train/default/img_67.jpg  \n",
            "  inflating: fire-img_data/train/default/img_68.jpg  \n",
            "  inflating: fire-img_data/train/default/img_7.jpg  \n",
            "  inflating: fire-img_data/train/default/img_70.jpg  \n",
            "  inflating: fire-img_data/train/default/img_700.jpg  \n",
            "  inflating: fire-img_data/train/default/img_701.jpg  \n",
            "  inflating: fire-img_data/train/default/img_702.jpg  \n",
            "  inflating: fire-img_data/train/default/img_703.jpg  \n",
            "  inflating: fire-img_data/train/default/img_704.jpg  \n",
            "  inflating: fire-img_data/train/default/img_705.jpg  \n",
            "  inflating: fire-img_data/train/default/img_706.jpg  \n",
            "  inflating: fire-img_data/train/default/img_707.jpg  \n",
            "  inflating: fire-img_data/train/default/img_708.jpg  \n",
            "  inflating: fire-img_data/train/default/img_709.jpg  \n",
            "  inflating: fire-img_data/train/default/img_71 (2).jpg  \n",
            "  inflating: fire-img_data/train/default/img_71.jpg  \n",
            "  inflating: fire-img_data/train/default/img_710.jpg  \n",
            "  inflating: fire-img_data/train/default/img_72.jpg  \n",
            "  inflating: fire-img_data/train/default/img_73.jpg  \n",
            "  inflating: fire-img_data/train/default/img_74.jpg  \n",
            "  inflating: fire-img_data/train/default/img_75.jpg  \n",
            "  inflating: fire-img_data/train/default/img_76.jpg  \n",
            "  inflating: fire-img_data/train/default/img_77.jpg  \n",
            "  inflating: fire-img_data/train/default/img_78.jpg  \n",
            "  inflating: fire-img_data/train/default/img_79.jpg  \n",
            "  inflating: fire-img_data/train/default/img_8.jpg  \n",
            "  inflating: fire-img_data/train/default/img_80.jpg  \n",
            "  inflating: fire-img_data/train/default/img_9.jpg  \n",
            "  inflating: fire-img_data/train/default/img_900.jpg  \n",
            "  inflating: fire-img_data/train/default/img_920.jpg  \n",
            "  inflating: fire-img_data/train/default/img_921.jpg  \n",
            "  inflating: fire-img_data/train/default/img_922.jpg  \n",
            "  inflating: fire-img_data/train/default/img_923.jpg  \n",
            "  inflating: fire-img_data/train/default/img_924.jpg  \n",
            "  inflating: fire-img_data/train/default/img_925.jpg  \n",
            "  inflating: fire-img_data/train/default/img_926.jpg  \n",
            "  inflating: fire-img_data/train/default/img_927.jpg  \n",
            "  inflating: fire-img_data/train/default/img_928.jpg  \n",
            "  inflating: fire-img_data/train/default/img_929.jpg  \n",
            "  inflating: fire-img_data/train/default/img_930.jpg  \n",
            "  inflating: fire-img_data/train/default/img_931.jpg  \n",
            "  inflating: fire-img_data/train/default/img_932.jpg  \n",
            "  inflating: fire-img_data/train/default/img_933.jpg  \n",
            "  inflating: fire-img_data/train/default/img_934.jpg  \n",
            "  inflating: fire-img_data/train/default/img_935.jpg  \n",
            "  inflating: fire-img_data/train/default/img_938.jpg  \n",
            "  inflating: fire-img_data/train/default/img_958.jpg  \n",
            "  inflating: fire-img_data/train/default/img_971.jpg  \n",
            "  inflating: fire-img_data/train/default/img_972.jpg  \n",
            "  inflating: fire-img_data/train/default/img_973.jpg  \n",
            "  inflating: fire-img_data/train/default/img_974.jpg  \n",
            "  inflating: fire-img_data/train/default/img_975.jpg  \n",
            "  inflating: fire-img_data/train/default/img_980.jpg  \n",
            "  inflating: fire-img_data/train/default/img_988.jpg  \n",
            "   creating: fire-img_data/train/fire/\n",
            "  inflating: fire-img_data/train/fire/img_102.jpg  \n",
            "  inflating: fire-img_data/train/fire/img_103.jpg  \n",
            "  inflating: fire-img_data/train/fire/img_104.jpg  \n",
            "  inflating: fire-img_data/train/fire/img_105.jpg  \n",
            "  inflating: fire-img_data/train/fire/img_106.jpg  \n",
            "  inflating: fire-img_data/train/fire/img_110.jpg  \n",
            "  inflating: fire-img_data/train/fire/img_111.jpg  \n",
            "  inflating: fire-img_data/train/fire/img_112.jpg  \n",
            "  inflating: fire-img_data/train/fire/img_113.jpg  \n",
            "  inflating: fire-img_data/train/fire/img_114.jpg  \n",
            "  inflating: fire-img_data/train/fire/img_115.jpg  \n",
            "  inflating: fire-img_data/train/fire/img_116.jpg  \n",
            "  inflating: fire-img_data/train/fire/img_117.jpg  \n",
            "  inflating: fire-img_data/train/fire/img_342.jpg  \n",
            "  inflating: fire-img_data/train/fire/img_343.jpg  \n",
            "  inflating: fire-img_data/train/fire/img_344.jpg  \n",
            "  inflating: fire-img_data/train/fire/img_345.jpg  \n",
            "  inflating: fire-img_data/train/fire/img_346.jpg  \n",
            "  inflating: fire-img_data/train/fire/img_347.jpg  \n",
            "  inflating: fire-img_data/train/fire/img_348.jpg  \n",
            "  inflating: fire-img_data/train/fire/img_349.jpg  \n",
            "  inflating: fire-img_data/train/fire/img_350.jpg  \n",
            "  inflating: fire-img_data/train/fire/img_351.jpg  \n",
            "  inflating: fire-img_data/train/fire/img_352.jpg  \n",
            "  inflating: fire-img_data/train/fire/img_353.jpg  \n",
            "  inflating: fire-img_data/train/fire/img_354.jpg  \n",
            "  inflating: fire-img_data/train/fire/img_355.jpg  \n",
            "  inflating: fire-img_data/train/fire/img_356.jpg  \n",
            "  inflating: fire-img_data/train/fire/img_357.jpg  \n",
            "  inflating: fire-img_data/train/fire/img_358.jpg  \n",
            "  inflating: fire-img_data/train/fire/img_359.jpg  \n",
            "  inflating: fire-img_data/train/fire/img_360.jpg  \n",
            "  inflating: fire-img_data/train/fire/img_361.jpg  \n",
            "  inflating: fire-img_data/train/fire/img_362.jpg  \n",
            "  inflating: fire-img_data/train/fire/img_363.jpg  \n",
            "  inflating: fire-img_data/train/fire/img_364.jpg  \n",
            "  inflating: fire-img_data/train/fire/img_365.jpg  \n",
            "  inflating: fire-img_data/train/fire/img_366.jpg  \n",
            "  inflating: fire-img_data/train/fire/img_367.jpg  \n",
            "  inflating: fire-img_data/train/fire/img_368.jpg  \n",
            "  inflating: fire-img_data/train/fire/img_369.jpg  \n",
            "  inflating: fire-img_data/train/fire/img_370.jpg  \n",
            "  inflating: fire-img_data/train/fire/img_371.jpg  \n",
            "  inflating: fire-img_data/train/fire/img_372.jpg  \n",
            "  inflating: fire-img_data/train/fire/img_373.jpg  \n",
            "  inflating: fire-img_data/train/fire/img_374.jpg  \n",
            "  inflating: fire-img_data/train/fire/img_375.jpg  \n",
            "  inflating: fire-img_data/train/fire/img_376.jpg  \n",
            "  inflating: fire-img_data/train/fire/img_377.jpg  \n",
            "  inflating: fire-img_data/train/fire/img_378.jpg  \n",
            "  inflating: fire-img_data/train/fire/img_379.jpg  \n",
            "  inflating: fire-img_data/train/fire/img_380.jpg  \n",
            "  inflating: fire-img_data/train/fire/img_381.jpg  \n",
            "  inflating: fire-img_data/train/fire/img_382.jpg  \n",
            "  inflating: fire-img_data/train/fire/img_383.jpg  \n",
            "  inflating: fire-img_data/train/fire/img_384.jpg  \n",
            "  inflating: fire-img_data/train/fire/img_385.jpg  \n",
            "  inflating: fire-img_data/train/fire/img_386.jpg  \n",
            "  inflating: fire-img_data/train/fire/img_387.jpg  \n",
            "  inflating: fire-img_data/train/fire/img_388.jpg  \n",
            "  inflating: fire-img_data/train/fire/img_389.jpg  \n",
            "  inflating: fire-img_data/train/fire/img_390.jpg  \n",
            "  inflating: fire-img_data/train/fire/img_391.jpg  \n",
            "  inflating: fire-img_data/train/fire/img_392.jpg  \n",
            "  inflating: fire-img_data/train/fire/img_393.jpg  \n",
            "  inflating: fire-img_data/train/fire/img_394.jpg  \n",
            "  inflating: fire-img_data/train/fire/img_395.jpg  \n",
            "  inflating: fire-img_data/train/fire/img_396.jpg  \n",
            "  inflating: fire-img_data/train/fire/img_397.jpg  \n",
            "  inflating: fire-img_data/train/fire/img_398.jpg  \n",
            "  inflating: fire-img_data/train/fire/img_399.jpg  \n",
            "  inflating: fire-img_data/train/fire/img_401.jpg  \n",
            "  inflating: fire-img_data/train/fire/img_402.jpg  \n",
            "  inflating: fire-img_data/train/fire/img_403.jpg  \n",
            "  inflating: fire-img_data/train/fire/img_404.jpg  \n",
            "  inflating: fire-img_data/train/fire/img_405.jpg  \n",
            "  inflating: fire-img_data/train/fire/img_406.jpg  \n",
            "  inflating: fire-img_data/train/fire/img_407.jpg  \n",
            "  inflating: fire-img_data/train/fire/img_408.jpg  \n",
            "  inflating: fire-img_data/train/fire/img_409.jpg  \n",
            "  inflating: fire-img_data/train/fire/img_410.jpg  \n",
            "  inflating: fire-img_data/train/fire/img_411.jpg  \n",
            "  inflating: fire-img_data/train/fire/img_412.jpg  \n",
            "  inflating: fire-img_data/train/fire/img_413.jpg  \n",
            "  inflating: fire-img_data/train/fire/img_414.jpg  \n",
            "  inflating: fire-img_data/train/fire/img_415.jpg  \n",
            "  inflating: fire-img_data/train/fire/img_416.jpg  \n",
            "  inflating: fire-img_data/train/fire/img_417.jpg  \n",
            "  inflating: fire-img_data/train/fire/img_418.jpg  \n",
            "  inflating: fire-img_data/train/fire/img_419.jpg  \n",
            "  inflating: fire-img_data/train/fire/img_420.jpg  \n",
            "  inflating: fire-img_data/train/fire/img_421.jpg  \n",
            "  inflating: fire-img_data/train/fire/img_422.jpg  \n",
            "  inflating: fire-img_data/train/fire/img_423.jpg  \n",
            "  inflating: fire-img_data/train/fire/img_424.jpg  \n",
            "  inflating: fire-img_data/train/fire/img_425.jpg  \n",
            "  inflating: fire-img_data/train/fire/img_428.jpg  \n",
            "  inflating: fire-img_data/train/fire/img_429.jpg  \n",
            "  inflating: fire-img_data/train/fire/img_430.jpg  \n",
            "  inflating: fire-img_data/train/fire/img_431.jpg  \n",
            "  inflating: fire-img_data/train/fire/img_432.jpg  \n",
            "  inflating: fire-img_data/train/fire/img_433.jpg  \n",
            "  inflating: fire-img_data/train/fire/img_434.jpg  \n",
            "  inflating: fire-img_data/train/fire/img_435.jpg  \n",
            "  inflating: fire-img_data/train/fire/img_436.jpg  \n",
            "  inflating: fire-img_data/train/fire/img_437.jpg  \n",
            "  inflating: fire-img_data/train/fire/img_438.jpg  \n",
            "  inflating: fire-img_data/train/fire/img_439.jpg  \n",
            "  inflating: fire-img_data/train/fire/img_440.jpg  \n",
            "  inflating: fire-img_data/train/fire/img_441.jpg  \n",
            "  inflating: fire-img_data/train/fire/img_442.jpg  \n",
            "  inflating: fire-img_data/train/fire/img_443.jpg  \n",
            "  inflating: fire-img_data/train/fire/img_444.jpg  \n",
            "  inflating: fire-img_data/train/fire/img_445.jpg  \n",
            "  inflating: fire-img_data/train/fire/img_446.jpg  \n",
            "  inflating: fire-img_data/train/fire/img_447.jpg  \n",
            "  inflating: fire-img_data/train/fire/img_448.jpg  \n",
            "  inflating: fire-img_data/train/fire/img_449.jpg  \n",
            "  inflating: fire-img_data/train/fire/img_450.jpg  \n",
            "  inflating: fire-img_data/train/fire/img_451.jpg  \n",
            "  inflating: fire-img_data/train/fire/img_452.jpg  \n",
            "  inflating: fire-img_data/train/fire/img_453.jpg  \n",
            "  inflating: fire-img_data/train/fire/img_454.jpg  \n",
            "  inflating: fire-img_data/train/fire/img_600.jpg  \n",
            "  inflating: fire-img_data/train/fire/img_605.jpg  \n",
            "  inflating: fire-img_data/train/fire/img_606.jpg  \n",
            "  inflating: fire-img_data/train/fire/img_607.jpg  \n",
            "  inflating: fire-img_data/train/fire/img_608.jpg  \n",
            "  inflating: fire-img_data/train/fire/img_609.jpg  \n",
            "  inflating: fire-img_data/train/fire/img_610.jpg  \n",
            "  inflating: fire-img_data/train/fire/img_611.jpg  \n",
            "  inflating: fire-img_data/train/fire/img_612.jpg  \n",
            "  inflating: fire-img_data/train/fire/img_613.jpg  \n",
            "  inflating: fire-img_data/train/fire/img_614.jpg  \n",
            "  inflating: fire-img_data/train/fire/img_615.jpg  \n",
            "  inflating: fire-img_data/train/fire/img_616.jpg  \n",
            "  inflating: fire-img_data/train/fire/img_617.jpg  \n",
            "  inflating: fire-img_data/train/fire/img_618.jpg  \n",
            "  inflating: fire-img_data/train/fire/img_619.jpg  \n",
            "  inflating: fire-img_data/train/fire/img_620.jpg  \n",
            "  inflating: fire-img_data/train/fire/img_621.jpg  \n",
            "  inflating: fire-img_data/train/fire/img_622.jpg  \n",
            "  inflating: fire-img_data/train/fire/img_623.jpg  \n",
            "  inflating: fire-img_data/train/fire/img_624.jpg  \n",
            "  inflating: fire-img_data/train/fire/img_625.jpg  \n",
            "  inflating: fire-img_data/train/fire/img_626.jpg  \n",
            "  inflating: fire-img_data/train/fire/img_627.jpg  \n",
            "  inflating: fire-img_data/train/fire/img_628.jpg  \n",
            "  inflating: fire-img_data/train/fire/img_629.jpg  \n",
            "  inflating: fire-img_data/train/fire/img_630.jpg  \n",
            "  inflating: fire-img_data/train/fire/img_631.jpg  \n",
            "  inflating: fire-img_data/train/fire/img_632.jpg  \n",
            "  inflating: fire-img_data/train/fire/img_633.jpg  \n",
            "  inflating: fire-img_data/train/fire/img_634.jpg  \n",
            "  inflating: fire-img_data/train/fire/img_635.jpg  \n",
            "  inflating: fire-img_data/train/fire/img_636.jpg  \n",
            "  inflating: fire-img_data/train/fire/img_637.jpg  \n",
            "  inflating: fire-img_data/train/fire/img_638.jpg  \n",
            "  inflating: fire-img_data/train/fire/img_639.jpg  \n",
            "  inflating: fire-img_data/train/fire/img_640.jpg  \n",
            "  inflating: fire-img_data/train/fire/img_641.jpg  \n",
            "  inflating: fire-img_data/train/fire/img_642.jpg  \n",
            "  inflating: fire-img_data/train/fire/img_643.jpg  \n",
            "  inflating: fire-img_data/train/fire/img_644.jpg  \n",
            "  inflating: fire-img_data/train/fire/img_645.jpg  \n",
            "  inflating: fire-img_data/train/fire/img_646.jpg  \n",
            "  inflating: fire-img_data/train/fire/img_647.jpg  \n",
            "  inflating: fire-img_data/train/fire/img_648.jpg  \n",
            "  inflating: fire-img_data/train/fire/img_649.jpg  \n",
            "  inflating: fire-img_data/train/fire/img_650.jpg  \n",
            "  inflating: fire-img_data/train/fire/img_651.jpg  \n",
            "  inflating: fire-img_data/train/fire/img_652.jpg  \n",
            "  inflating: fire-img_data/train/fire/img_653.jpg  \n",
            "  inflating: fire-img_data/train/fire/img_654.jpg  \n",
            "  inflating: fire-img_data/train/fire/img_655.jpg  \n",
            "  inflating: fire-img_data/train/fire/img_661.jpg  \n",
            "  inflating: fire-img_data/train/fire/img_662.jpg  \n",
            "  inflating: fire-img_data/train/fire/img_663.jpg  \n",
            "  inflating: fire-img_data/train/fire/img_664.jpg  \n",
            "  inflating: fire-img_data/train/fire/img_665.jpg  \n",
            "  inflating: fire-img_data/train/fire/img_666.jpg  \n",
            "  inflating: fire-img_data/train/fire/img_667.jpg  \n",
            "  inflating: fire-img_data/train/fire/img_668.jpg  \n",
            "  inflating: fire-img_data/train/fire/img_669.jpg  \n",
            "  inflating: fire-img_data/train/fire/img_711.jpg  \n",
            "  inflating: fire-img_data/train/fire/img_712.jpg  \n",
            "  inflating: fire-img_data/train/fire/img_713.jpg  \n",
            "  inflating: fire-img_data/train/fire/img_714.jpg  \n",
            "  inflating: fire-img_data/train/fire/img_715.jpg  \n",
            "  inflating: fire-img_data/train/fire/img_716.jpg  \n",
            "  inflating: fire-img_data/train/fire/img_717.jpg  \n",
            "  inflating: fire-img_data/train/fire/img_718.jpg  \n",
            "  inflating: fire-img_data/train/fire/img_719.jpg  \n",
            "  inflating: fire-img_data/train/fire/img_720.jpg  \n",
            "  inflating: fire-img_data/train/fire/img_721.jpg  \n",
            "  inflating: fire-img_data/train/fire/img_722.jpg  \n",
            "  inflating: fire-img_data/train/fire/img_723.jpg  \n",
            "  inflating: fire-img_data/train/fire/img_724.jpg  \n",
            "  inflating: fire-img_data/train/fire/img_725.jpg  \n",
            "  inflating: fire-img_data/train/fire/img_726.jpg  \n",
            "  inflating: fire-img_data/train/fire/img_727.jpg  \n",
            "  inflating: fire-img_data/train/fire/img_728.jpg  \n",
            "  inflating: fire-img_data/train/fire/img_729.jpg  \n",
            "  inflating: fire-img_data/train/fire/img_730.jpg  \n",
            "  inflating: fire-img_data/train/fire/img_731.jpg  \n",
            "  inflating: fire-img_data/train/fire/img_732.jpg  \n",
            "  inflating: fire-img_data/train/fire/img_733.jpg  \n",
            "  inflating: fire-img_data/train/fire/img_734.jpg  \n",
            "  inflating: fire-img_data/train/fire/img_735.jpg  \n",
            "  inflating: fire-img_data/train/fire/img_736.jpg  \n",
            "  inflating: fire-img_data/train/fire/img_737.jpg  \n",
            "  inflating: fire-img_data/train/fire/img_738.jpg  \n",
            "  inflating: fire-img_data/train/fire/img_739.jpg  \n",
            "  inflating: fire-img_data/train/fire/img_740.jpg  \n",
            "  inflating: fire-img_data/train/fire/img_741.jpg  \n",
            "  inflating: fire-img_data/train/fire/img_742.jpg  \n",
            "  inflating: fire-img_data/train/fire/img_743.jpg  \n",
            "  inflating: fire-img_data/train/fire/img_744.jpg  \n",
            "  inflating: fire-img_data/train/fire/img_745.jpg  \n",
            "  inflating: fire-img_data/train/fire/img_746.jpg  \n",
            "  inflating: fire-img_data/train/fire/img_747.jpg  \n",
            "  inflating: fire-img_data/train/fire/img_748.jpg  \n",
            "  inflating: fire-img_data/train/fire/img_749.jpg  \n",
            "  inflating: fire-img_data/train/fire/img_750.jpg  \n",
            "  inflating: fire-img_data/train/fire/img_751.jpg  \n",
            "  inflating: fire-img_data/train/fire/img_752.jpg  \n",
            "  inflating: fire-img_data/train/fire/img_753.jpg  \n",
            "  inflating: fire-img_data/train/fire/img_754.jpg  \n",
            "  inflating: fire-img_data/train/fire/img_755.jpg  \n",
            "  inflating: fire-img_data/train/fire/img_756.jpg  \n",
            "  inflating: fire-img_data/train/fire/img_757.jpg  \n",
            "  inflating: fire-img_data/train/fire/img_758.jpg  \n",
            "  inflating: fire-img_data/train/fire/img_759.jpg  \n",
            "  inflating: fire-img_data/train/fire/img_760.jpg  \n",
            "  inflating: fire-img_data/train/fire/img_761.jpg  \n",
            "  inflating: fire-img_data/train/fire/img_762.jpg  \n",
            "  inflating: fire-img_data/train/fire/img_763.jpg  \n",
            "  inflating: fire-img_data/train/fire/img_764.jpg  \n",
            "  inflating: fire-img_data/train/fire/img_765.jpg  \n",
            "  inflating: fire-img_data/train/fire/img_766.jpg  \n",
            "  inflating: fire-img_data/train/fire/img_767.jpg  \n",
            "  inflating: fire-img_data/train/fire/img_768.jpg  \n",
            "  inflating: fire-img_data/train/fire/img_769.jpg  \n",
            "  inflating: fire-img_data/train/fire/img_770.jpg  \n",
            "  inflating: fire-img_data/train/fire/img_771.jpg  \n",
            "  inflating: fire-img_data/train/fire/img_772.jpg  \n",
            "  inflating: fire-img_data/train/fire/img_773.jpg  \n",
            "  inflating: fire-img_data/train/fire/img_774.jpg  \n",
            "  inflating: fire-img_data/train/fire/img_775.jpg  \n",
            "  inflating: fire-img_data/train/fire/img_776.jpg  \n",
            "  inflating: fire-img_data/train/fire/img_777.jpg  \n",
            "  inflating: fire-img_data/train/fire/img_778.jpg  \n",
            "  inflating: fire-img_data/train/fire/img_779.jpg  \n",
            "  inflating: fire-img_data/train/fire/img_782.jpg  \n",
            "  inflating: fire-img_data/train/fire/img_783.jpg  \n",
            "  inflating: fire-img_data/train/fire/img_784.jpg  \n",
            "  inflating: fire-img_data/train/fire/img_785.jpg  \n",
            "  inflating: fire-img_data/train/fire/img_786.jpg  \n",
            "  inflating: fire-img_data/train/fire/img_81.jpg  \n",
            "  inflating: fire-img_data/train/fire/img_82.jpg  \n",
            "  inflating: fire-img_data/train/fire/img_83.jpg  \n",
            "  inflating: fire-img_data/train/fire/img_84.jpg  \n",
            "  inflating: fire-img_data/train/fire/img_85.jpg  \n",
            "  inflating: fire-img_data/train/fire/img_86.jpg  \n",
            "  inflating: fire-img_data/train/fire/img_87.jpg  \n",
            "  inflating: fire-img_data/train/fire/img_88.jpg  \n",
            "  inflating: fire-img_data/train/fire/img_89.jpg  \n",
            "  inflating: fire-img_data/train/fire/img_90.jpg  \n",
            "  inflating: fire-img_data/train/fire/img_91.jpg  \n",
            "  inflating: fire-img_data/train/fire/img_92.jpg  \n",
            "  inflating: fire-img_data/train/fire/img_93.jpg  \n",
            "  inflating: fire-img_data/train/fire/img_94.jpg  \n",
            "  inflating: fire-img_data/train/fire/img_95.jpg  \n",
            "  inflating: fire-img_data/train/fire/img_96.jpg  \n",
            "   creating: fire-img_data/train/smoke/\n",
            "  inflating: fire-img_data/train/smoke/img_10.jpg  \n",
            "  inflating: fire-img_data/train/smoke/img_1015.jpg  \n",
            "  inflating: fire-img_data/train/smoke/img_1016.jpg  \n",
            "  inflating: fire-img_data/train/smoke/img_1017.jpg  \n",
            "  inflating: fire-img_data/train/smoke/img_1018.jpg  \n",
            "  inflating: fire-img_data/train/smoke/img_1028.jpg  \n",
            "  inflating: fire-img_data/train/smoke/img_1029.jpg  \n",
            "  inflating: fire-img_data/train/smoke/img_1030.jpg  \n",
            "  inflating: fire-img_data/train/smoke/img_1031.jpg  \n",
            "  inflating: fire-img_data/train/smoke/img_1032.jpg  \n",
            "  inflating: fire-img_data/train/smoke/img_1033.jpg  \n",
            "  inflating: fire-img_data/train/smoke/img_1034.jpg  \n",
            "  inflating: fire-img_data/train/smoke/img_1035.jpg  \n",
            "  inflating: fire-img_data/train/smoke/img_1036.jpg  \n",
            "  inflating: fire-img_data/train/smoke/img_1047.jpg  \n",
            "  inflating: fire-img_data/train/smoke/img_1053.jpg  \n",
            "  inflating: fire-img_data/train/smoke/img_1054.jpg  \n",
            "  inflating: fire-img_data/train/smoke/img_1055.jpg  \n",
            "  inflating: fire-img_data/train/smoke/img_1056.jpg  \n",
            "  inflating: fire-img_data/train/smoke/img_1057.jpg  \n",
            "  inflating: fire-img_data/train/smoke/img_1058.jpg  \n",
            "  inflating: fire-img_data/train/smoke/img_1059.jpg  \n",
            "  inflating: fire-img_data/train/smoke/img_1060.jpg  \n",
            "  inflating: fire-img_data/train/smoke/img_1061.jpg  \n",
            "  inflating: fire-img_data/train/smoke/img_1062.jpg  \n",
            "  inflating: fire-img_data/train/smoke/img_11.jpg  \n",
            "  inflating: fire-img_data/train/smoke/img_12.jpg  \n",
            "  inflating: fire-img_data/train/smoke/img_13.jpg  \n",
            "  inflating: fire-img_data/train/smoke/img_14.jpg  \n",
            "  inflating: fire-img_data/train/smoke/img_15.jpg  \n",
            "  inflating: fire-img_data/train/smoke/img_16.jpg  \n",
            "  inflating: fire-img_data/train/smoke/img_17.jpg  \n",
            "  inflating: fire-img_data/train/smoke/img_18.jpg  \n",
            "  inflating: fire-img_data/train/smoke/img_19.jpg  \n",
            "  inflating: fire-img_data/train/smoke/img_20.jpg  \n",
            "  inflating: fire-img_data/train/smoke/img_2036.jpg  \n",
            "  inflating: fire-img_data/train/smoke/img_2037.jpg  \n",
            "  inflating: fire-img_data/train/smoke/img_2038.jpg  \n",
            "  inflating: fire-img_data/train/smoke/img_2039.jpg  \n",
            "  inflating: fire-img_data/train/smoke/img_2045.jpg  \n",
            "  inflating: fire-img_data/train/smoke/img_2046.jpg  \n",
            "  inflating: fire-img_data/train/smoke/img_2047.jpg  \n",
            "  inflating: fire-img_data/train/smoke/img_2048.jpg  \n",
            "  inflating: fire-img_data/train/smoke/img_2049.jpg  \n",
            "  inflating: fire-img_data/train/smoke/img_2050.jpg  \n",
            "  inflating: fire-img_data/train/smoke/img_2051.jpg  \n",
            "  inflating: fire-img_data/train/smoke/img_2052.jpg  \n",
            "  inflating: fire-img_data/train/smoke/img_2076.jpg  \n",
            "  inflating: fire-img_data/train/smoke/img_2077.jpg  \n",
            "  inflating: fire-img_data/train/smoke/img_2078.jpg  \n",
            "  inflating: fire-img_data/train/smoke/img_2079.jpg  \n",
            "  inflating: fire-img_data/train/smoke/img_2080.jpg  \n",
            "  inflating: fire-img_data/train/smoke/img_2081.jpg  \n",
            "  inflating: fire-img_data/train/smoke/img_2082.jpg  \n",
            "  inflating: fire-img_data/train/smoke/img_2083.jpg  \n",
            "  inflating: fire-img_data/train/smoke/img_2084.jpg  \n",
            "  inflating: fire-img_data/train/smoke/img_2085.jpg  \n",
            "  inflating: fire-img_data/train/smoke/img_2086.jpg  \n",
            "  inflating: fire-img_data/train/smoke/img_2087.jpg  \n",
            "  inflating: fire-img_data/train/smoke/img_2088.jpg  \n",
            "  inflating: fire-img_data/train/smoke/img_2089.jpg  \n",
            "  inflating: fire-img_data/train/smoke/img_2090.jpg  \n",
            "  inflating: fire-img_data/train/smoke/img_2091.jpg  \n",
            "  inflating: fire-img_data/train/smoke/img_2092.jpg  \n",
            "  inflating: fire-img_data/train/smoke/img_2093.jpg  \n",
            "  inflating: fire-img_data/train/smoke/img_2094.jpg  \n",
            "  inflating: fire-img_data/train/smoke/img_21.jpg  \n",
            "  inflating: fire-img_data/train/smoke/img_2119.jpg  \n",
            "  inflating: fire-img_data/train/smoke/img_2120.jpg  \n",
            "  inflating: fire-img_data/train/smoke/img_2121.jpg  \n",
            "  inflating: fire-img_data/train/smoke/img_2122.jpg  \n",
            "  inflating: fire-img_data/train/smoke/img_2123.jpg  \n",
            "  inflating: fire-img_data/train/smoke/img_2124.jpg  \n",
            "  inflating: fire-img_data/train/smoke/img_2125.jpg  \n",
            "  inflating: fire-img_data/train/smoke/img_2126.jpg  \n",
            "  inflating: fire-img_data/train/smoke/img_2127.jpg  \n",
            "  inflating: fire-img_data/train/smoke/img_2128.jpg  \n",
            "  inflating: fire-img_data/train/smoke/img_2129.jpg  \n",
            "  inflating: fire-img_data/train/smoke/img_2130.jpg  \n",
            "  inflating: fire-img_data/train/smoke/img_2131.jpg  \n",
            "  inflating: fire-img_data/train/smoke/img_2132.jpg  \n",
            "  inflating: fire-img_data/train/smoke/img_2144.jpg  \n",
            "  inflating: fire-img_data/train/smoke/img_2145.jpg  \n",
            "  inflating: fire-img_data/train/smoke/img_2146.jpg  \n",
            "  inflating: fire-img_data/train/smoke/img_2147.jpg  \n",
            "  inflating: fire-img_data/train/smoke/img_2148.jpg  \n",
            "  inflating: fire-img_data/train/smoke/img_2149.jpg  \n",
            "  inflating: fire-img_data/train/smoke/img_2150.jpg  \n",
            "  inflating: fire-img_data/train/smoke/img_2151.jpg  \n",
            "  inflating: fire-img_data/train/smoke/img_2152.jpg  \n",
            "  inflating: fire-img_data/train/smoke/img_2153.jpg  \n",
            "  inflating: fire-img_data/train/smoke/img_2154.jpg  \n",
            "  inflating: fire-img_data/train/smoke/img_2155.jpg  \n",
            "  inflating: fire-img_data/train/smoke/img_2156.jpg  \n",
            "  inflating: fire-img_data/train/smoke/img_2157.jpg  \n",
            "  inflating: fire-img_data/train/smoke/img_2158.jpg  \n",
            "  inflating: fire-img_data/train/smoke/img_2159.jpg  \n",
            "  inflating: fire-img_data/train/smoke/img_2160.jpg  \n",
            "  inflating: fire-img_data/train/smoke/img_2161.jpg  \n",
            "  inflating: fire-img_data/train/smoke/img_2162.jpg  \n",
            "  inflating: fire-img_data/train/smoke/img_22.jpg  \n",
            "  inflating: fire-img_data/train/smoke/img_23.jpg  \n",
            "  inflating: fire-img_data/train/smoke/img_24.jpg  \n",
            "  inflating: fire-img_data/train/smoke/img_414.jpg  \n",
            "  inflating: fire-img_data/train/smoke/img_415.jpg  \n",
            "  inflating: fire-img_data/train/smoke/img_416.jpg  \n",
            "  inflating: fire-img_data/train/smoke/img_417.jpg  \n",
            "  inflating: fire-img_data/train/smoke/img_418.jpg  \n",
            "  inflating: fire-img_data/train/smoke/img_419.jpg  \n",
            "  inflating: fire-img_data/train/smoke/img_420.jpg  \n",
            "  inflating: fire-img_data/train/smoke/img_421.jpg  \n",
            "  inflating: fire-img_data/train/smoke/img_422.jpg  \n",
            "  inflating: fire-img_data/train/smoke/img_423.jpg  \n",
            "  inflating: fire-img_data/train/smoke/img_424.jpg  \n",
            "  inflating: fire-img_data/train/smoke/img_425.jpg  \n",
            "  inflating: fire-img_data/train/smoke/img_426.jpg  \n",
            "  inflating: fire-img_data/train/smoke/img_427.jpg  \n",
            "  inflating: fire-img_data/train/smoke/img_428.jpg  \n",
            "  inflating: fire-img_data/train/smoke/img_429.jpg  \n",
            "  inflating: fire-img_data/train/smoke/img_430.jpg  \n",
            "  inflating: fire-img_data/train/smoke/img_431.jpg  \n",
            "  inflating: fire-img_data/train/smoke/img_432.jpg  \n",
            "  inflating: fire-img_data/train/smoke/img_433.jpg  \n",
            "  inflating: fire-img_data/train/smoke/img_434.jpg  \n",
            "  inflating: fire-img_data/train/smoke/img_435.jpg  \n",
            "  inflating: fire-img_data/train/smoke/img_436.jpg  \n",
            "  inflating: fire-img_data/train/smoke/img_455.jpg  \n",
            "  inflating: fire-img_data/train/smoke/img_456.jpg  \n",
            "  inflating: fire-img_data/train/smoke/img_457.jpg  \n",
            "  inflating: fire-img_data/train/smoke/img_5.jpg  \n",
            "  inflating: fire-img_data/train/smoke/img_500.jpg  \n",
            "  inflating: fire-img_data/train/smoke/img_501.jpg  \n",
            "  inflating: fire-img_data/train/smoke/img_503.jpg  \n",
            "  inflating: fire-img_data/train/smoke/img_505.jpg  \n",
            "  inflating: fire-img_data/train/smoke/img_506.jpg  \n",
            "  inflating: fire-img_data/train/smoke/img_59.jpg  \n",
            "  inflating: fire-img_data/train/smoke/img_6.jpg  \n",
            "  inflating: fire-img_data/train/smoke/img_60.jpg  \n",
            "  inflating: fire-img_data/train/smoke/img_61.jpg  \n",
            "  inflating: fire-img_data/train/smoke/img_62.jpg  \n",
            "  inflating: fire-img_data/train/smoke/img_63.jpg  \n",
            "  inflating: fire-img_data/train/smoke/img_64.jpg  \n",
            "  inflating: fire-img_data/train/smoke/img_65.jpg  \n",
            "  inflating: fire-img_data/train/smoke/img_656.jpg  \n",
            "  inflating: fire-img_data/train/smoke/img_657.jpg  \n",
            "  inflating: fire-img_data/train/smoke/img_658.jpg  \n",
            "  inflating: fire-img_data/train/smoke/img_659.jpg  \n",
            "  inflating: fire-img_data/train/smoke/img_66.jpg  \n",
            "  inflating: fire-img_data/train/smoke/img_660.jpg  \n",
            "  inflating: fire-img_data/train/smoke/img_67.jpg  \n",
            "  inflating: fire-img_data/train/smoke/img_68.jpg  \n",
            "  inflating: fire-img_data/train/smoke/img_69.jpg  \n",
            "  inflating: fire-img_data/train/smoke/img_7.jpg  \n",
            "  inflating: fire-img_data/train/smoke/img_70.jpg  \n",
            "  inflating: fire-img_data/train/smoke/img_71.jpg  \n",
            "  inflating: fire-img_data/train/smoke/img_72.jpg  \n",
            "  inflating: fire-img_data/train/smoke/img_73.jpg  \n",
            "  inflating: fire-img_data/train/smoke/img_74.jpg  \n",
            "  inflating: fire-img_data/train/smoke/img_75.jpg  \n",
            "  inflating: fire-img_data/train/smoke/img_76.jpg  \n",
            "  inflating: fire-img_data/train/smoke/img_77.jpg  \n",
            "  inflating: fire-img_data/train/smoke/img_78.jpg  \n",
            "  inflating: fire-img_data/train/smoke/img_79.jpg  \n",
            "  inflating: fire-img_data/train/smoke/img_8.jpg  \n",
            "  inflating: fire-img_data/train/smoke/img_80.jpg  \n",
            "  inflating: fire-img_data/train/smoke/img_800.jpg  \n",
            "  inflating: fire-img_data/train/smoke/img_801.jpg  \n",
            "  inflating: fire-img_data/train/smoke/img_802.jpg  \n",
            "  inflating: fire-img_data/train/smoke/img_803.jpg  \n",
            "  inflating: fire-img_data/train/smoke/img_804.jpg  \n",
            "  inflating: fire-img_data/train/smoke/img_805.jpg  \n",
            "  inflating: fire-img_data/train/smoke/img_806.jpg  \n",
            "  inflating: fire-img_data/train/smoke/img_807.jpg  \n",
            "  inflating: fire-img_data/train/smoke/img_808.jpg  \n",
            "  inflating: fire-img_data/train/smoke/img_809.jpg  \n",
            "  inflating: fire-img_data/train/smoke/img_81.jpg  \n",
            "  inflating: fire-img_data/train/smoke/img_810.jpg  \n",
            "  inflating: fire-img_data/train/smoke/img_811.jpg  \n",
            "  inflating: fire-img_data/train/smoke/img_812.jpg  \n",
            "  inflating: fire-img_data/train/smoke/img_813.jpg  \n",
            "  inflating: fire-img_data/train/smoke/img_814.jpg  \n",
            "  inflating: fire-img_data/train/smoke/img_815.jpg  \n",
            "  inflating: fire-img_data/train/smoke/img_816.jpg  \n",
            "  inflating: fire-img_data/train/smoke/img_817.jpg  \n",
            "  inflating: fire-img_data/train/smoke/img_818.jpg  \n",
            "  inflating: fire-img_data/train/smoke/img_819.jpg  \n",
            "  inflating: fire-img_data/train/smoke/img_820.jpg  \n",
            "  inflating: fire-img_data/train/smoke/img_821.jpg  \n",
            "  inflating: fire-img_data/train/smoke/img_822.jpg  \n",
            "  inflating: fire-img_data/train/smoke/img_823.jpg  \n",
            "  inflating: fire-img_data/train/smoke/img_824.jpg  \n",
            "  inflating: fire-img_data/train/smoke/img_825.jpg  \n",
            "  inflating: fire-img_data/train/smoke/img_826.jpg  \n",
            "  inflating: fire-img_data/train/smoke/img_827.jpg  \n",
            "  inflating: fire-img_data/train/smoke/img_828.jpg  \n",
            "  inflating: fire-img_data/train/smoke/img_9.jpg  \n",
            "  inflating: fire-img_data/train/smoke/img_906.jpg  \n",
            "  inflating: fire-img_data/train/smoke/img_907.jpg  \n",
            "  inflating: fire-img_data/train/smoke/img_908.jpg  \n",
            "  inflating: fire-img_data/train/smoke/img_909.jpg  \n",
            "  inflating: fire-img_data/train/smoke/img_910.jpg  \n",
            "  inflating: fire-img_data/train/smoke/img_911.jpg  \n",
            "  inflating: fire-img_data/train/smoke/img_923.jpg  \n",
            "  inflating: fire-img_data/train/smoke/img_924.jpg  \n",
            "  inflating: fire-img_data/train/smoke/img_925.jpg  \n",
            "  inflating: fire-img_data/train/smoke/img_929.jpg  \n",
            "  inflating: fire-img_data/train/smoke/img_930.jpg  \n",
            "  inflating: fire-img_data/train/smoke/img_931.jpg  \n",
            "  inflating: fire-img_data/train/smoke/img_932.jpg  \n",
            "  inflating: fire-img_data/train/smoke/img_941.jpg  \n",
            "  inflating: fire-img_data/train/smoke/img_942.jpg  \n",
            "  inflating: fire-img_data/train/smoke/img_943.jpg  \n",
            "  inflating: fire-img_data/train/smoke/img_944.jpg  \n",
            "  inflating: fire-img_data/train/smoke/img_945.jpg  \n",
            "  inflating: fire-img_data/train/smoke/img_946.jpg  \n",
            "  inflating: fire-img_data/train/smoke/img_947.jpg  \n",
            "  inflating: fire-img_data/train/smoke/img_948.jpg  \n",
            "  inflating: fire-img_data/train/smoke/img_949.jpg  \n",
            "  inflating: fire-img_data/train/smoke/img_950.jpg  \n",
            "  inflating: fire-img_data/train/smoke/img_951.jpg  \n",
            "  inflating: fire-img_data/train/smoke/img_952.jpg  \n",
            "  inflating: fire-img_data/train/smoke/img_953.jpg  \n",
            "  inflating: fire-img_data/train/smoke/img_954.jpg  \n",
            "  inflating: fire-img_data/train/smoke/img_955.jpg  \n",
            "  inflating: fire-img_data/train/smoke/img_956.jpg  \n",
            "  inflating: fire-img_data/train/smoke/img_957.jpg  \n",
            "  inflating: fire-img_data/train/smoke/img_959.jpg  \n",
            "  inflating: fire-img_data/train/smoke/img_960.jpg  \n",
            "  inflating: fire-img_data/train/smoke/img_961.jpg  \n",
            "  inflating: fire-img_data/train/smoke/img_962.jpg  \n",
            "  inflating: fire-img_data/train/smoke/img_963.jpg  \n",
            "  inflating: fire-img_data/train/smoke/img_964.jpg  \n",
            "  inflating: fire-img_data/train/smoke/img_965.jpg  \n",
            "  inflating: fire-img_data/train/smoke/img_966.jpg  \n",
            "  inflating: fire-img_data/train/smoke/img_967.jpg  \n",
            "  inflating: fire-img_data/train/smoke/img_968.jpg  \n",
            "  inflating: fire-img_data/train/smoke/img_969.jpg  \n",
            "  inflating: fire-img_data/train/smoke/img_97.jpg  \n",
            "  inflating: fire-img_data/train/smoke/img_970.jpg  \n",
            "  inflating: fire-img_data/train/smoke/img_971.jpg  \n",
            "  inflating: fire-img_data/train/smoke/img_972.jpg  \n",
            "  inflating: fire-img_data/train/smoke/img_973.jpg  \n",
            "  inflating: fire-img_data/train/smoke/img_974.jpg  \n",
            "  inflating: fire-img_data/train/smoke/img_981.jpg  \n",
            "  inflating: fire-img_data/train/smoke/img_982.jpg  \n",
            "  inflating: fire-img_data/train/smoke/img_983.jpg  \n",
            "  inflating: fire-img_data/train/smoke/img_984.jpg  \n",
            "  inflating: fire-img_data/train/smoke/img_985.jpg  \n",
            "  inflating: fire-img_data/train/smoke/img_986.jpg  \n",
            "  inflating: fire-img_data/train/smoke/img_987.jpg  \n",
            "  inflating: fire-img_data/train/smoke/img_989.jpg  \n",
            "  inflating: fire-img_data/train/smoke/img_990.jpg  \n",
            "  inflating: fire-img_data/train/smoke/img_991.jpg  \n",
            "  inflating: fire-img_data/train/smoke/img_992.jpg  \n",
            "  inflating: fire-img_data/train/smoke/img_993.jpg  \n",
            "  inflating: fire-img_data/train/smoke/img_994.jpg  \n",
            "  inflating: fire-img_data/train/smoke/img_995.jpg  \n",
            "  inflating: fire-img_data/train/smoke/img_996.jpg  \n",
            "   creating: fire-img_data/val/\n",
            "   creating: fire-img_data/val/default/\n",
            "  inflating: fire-img_data/val/default/img_102.jpg  \n",
            "  inflating: fire-img_data/val/default/img_112.jpg  \n",
            "  inflating: fire-img_data/val/default/img_113.jpg  \n",
            "  inflating: fire-img_data/val/default/img_114.jpg  \n",
            "  inflating: fire-img_data/val/default/img_132.jpg  \n",
            "  inflating: fire-img_data/val/default/img_133.jpg  \n",
            "  inflating: fire-img_data/val/default/img_137.jpg  \n",
            "  inflating: fire-img_data/val/default/img_138.jpg  \n",
            "  inflating: fire-img_data/val/default/img_200.jpg  \n",
            "  inflating: fire-img_data/val/default/img_201.jpg  \n",
            "  inflating: fire-img_data/val/default/img_202.jpg  \n",
            "  inflating: fire-img_data/val/default/img_203.jpg  \n",
            "  inflating: fire-img_data/val/default/img_204.jpg  \n",
            "  inflating: fire-img_data/val/default/img_205.jpg  \n",
            "  inflating: fire-img_data/val/default/img_206.jpg  \n",
            "  inflating: fire-img_data/val/default/img_207.jpg  \n",
            "  inflating: fire-img_data/val/default/img_208.jpg  \n",
            "  inflating: fire-img_data/val/default/img_209.jpg  \n",
            "  inflating: fire-img_data/val/default/img_210.jpg  \n",
            "  inflating: fire-img_data/val/default/img_211.jpg  \n",
            "  inflating: fire-img_data/val/default/img_217.jpg  \n",
            "  inflating: fire-img_data/val/default/img_218.jpg  \n",
            "  inflating: fire-img_data/val/default/img_219.jpg  \n",
            "  inflating: fire-img_data/val/default/img_220.jpg  \n",
            "  inflating: fire-img_data/val/default/img_221.jpg  \n",
            "  inflating: fire-img_data/val/default/img_222.jpg  \n",
            "  inflating: fire-img_data/val/default/img_223.jpg  \n",
            "  inflating: fire-img_data/val/default/img_227.jpg  \n",
            "  inflating: fire-img_data/val/default/img_228.jpg  \n",
            "  inflating: fire-img_data/val/default/img_229.jpg  \n",
            "  inflating: fire-img_data/val/default/img_230.jpg  \n",
            "  inflating: fire-img_data/val/default/img_231.jpg  \n",
            "  inflating: fire-img_data/val/default/img_232.jpg  \n",
            "  inflating: fire-img_data/val/default/img_233.jpg  \n",
            "  inflating: fire-img_data/val/default/img_234.jpg  \n",
            "  inflating: fire-img_data/val/default/img_235.jpg  \n",
            "  inflating: fire-img_data/val/default/img_236.jpg  \n",
            "  inflating: fire-img_data/val/default/img_237.jpg  \n",
            "  inflating: fire-img_data/val/default/img_238.jpg  \n",
            "  inflating: fire-img_data/val/default/img_239.jpg  \n",
            "  inflating: fire-img_data/val/default/img_246.jpg  \n",
            "  inflating: fire-img_data/val/default/img_247.jpg  \n",
            "  inflating: fire-img_data/val/default/img_248.jpg  \n",
            "  inflating: fire-img_data/val/default/img_249.jpg  \n",
            "  inflating: fire-img_data/val/default/img_250.jpg  \n",
            "  inflating: fire-img_data/val/default/img_251.jpg  \n",
            "  inflating: fire-img_data/val/default/img_252.jpg  \n",
            "  inflating: fire-img_data/val/default/img_253.jpg  \n",
            "  inflating: fire-img_data/val/default/img_254.jpg  \n",
            "  inflating: fire-img_data/val/default/img_255.jpg  \n",
            "  inflating: fire-img_data/val/default/img_256.jpg  \n",
            "  inflating: fire-img_data/val/default/img_257.jpg  \n",
            "  inflating: fire-img_data/val/default/img_301.jpg  \n",
            "  inflating: fire-img_data/val/default/img_302.jpg  \n",
            "  inflating: fire-img_data/val/default/img_303.jpg  \n",
            "  inflating: fire-img_data/val/default/img_304.jpg  \n",
            "  inflating: fire-img_data/val/default/img_305.jpg  \n",
            "  inflating: fire-img_data/val/default/img_306.jpg  \n",
            "  inflating: fire-img_data/val/default/img_307.jpg  \n",
            "  inflating: fire-img_data/val/default/img_308.jpg  \n",
            "  inflating: fire-img_data/val/default/img_309.jpg  \n",
            "  inflating: fire-img_data/val/default/img_336.jpg  \n",
            "  inflating: fire-img_data/val/default/img_337.jpg  \n",
            "  inflating: fire-img_data/val/default/img_338.jpg  \n",
            "  inflating: fire-img_data/val/default/img_339.jpg  \n",
            "  inflating: fire-img_data/val/default/img_340.jpg  \n",
            "  inflating: fire-img_data/val/default/img_341.jpg  \n",
            "  inflating: fire-img_data/val/default/img_342.jpg  \n",
            "  inflating: fire-img_data/val/default/img_343.jpg  \n",
            "  inflating: fire-img_data/val/default/img_344.jpg  \n",
            "  inflating: fire-img_data/val/default/img_345.jpg  \n",
            "  inflating: fire-img_data/val/default/img_346.jpg  \n",
            "  inflating: fire-img_data/val/default/img_347.jpg  \n",
            "  inflating: fire-img_data/val/default/img_348.jpg  \n",
            "  inflating: fire-img_data/val/default/img_349.jpg  \n",
            "  inflating: fire-img_data/val/default/img_350.jpg  \n",
            "  inflating: fire-img_data/val/default/img_351.jpg  \n",
            "  inflating: fire-img_data/val/default/img_352.jpg  \n",
            "  inflating: fire-img_data/val/default/img_353.jpg  \n",
            "  inflating: fire-img_data/val/default/img_354.jpg  \n",
            "  inflating: fire-img_data/val/default/img_355.jpg  \n",
            "  inflating: fire-img_data/val/default/img_356.jpg  \n",
            "  inflating: fire-img_data/val/default/img_357.jpg  \n",
            "  inflating: fire-img_data/val/default/img_358.jpg  \n",
            "   creating: fire-img_data/val/fire/\n",
            "  inflating: fire-img_data/val/fire/img_103.jpg  \n",
            "  inflating: fire-img_data/val/fire/img_104.jpg  \n",
            "  inflating: fire-img_data/val/fire/img_105.jpg  \n",
            "  inflating: fire-img_data/val/fire/img_106.jpg  \n",
            "  inflating: fire-img_data/val/fire/img_107.jpg  \n",
            "  inflating: fire-img_data/val/fire/img_108.jpg  \n",
            "  inflating: fire-img_data/val/fire/img_109.jpg  \n",
            "  inflating: fire-img_data/val/fire/img_110.jpg  \n",
            "  inflating: fire-img_data/val/fire/img_111.jpg  \n",
            "  inflating: fire-img_data/val/fire/img_115.jpg  \n",
            "  inflating: fire-img_data/val/fire/img_116.jpg  \n",
            "  inflating: fire-img_data/val/fire/img_117.jpg  \n",
            "  inflating: fire-img_data/val/fire/img_118.jpg  \n",
            "  inflating: fire-img_data/val/fire/img_119.jpg  \n",
            "  inflating: fire-img_data/val/fire/img_120.jpg  \n",
            "  inflating: fire-img_data/val/fire/img_121.jpg  \n",
            "  inflating: fire-img_data/val/fire/img_122.jpg  \n",
            "  inflating: fire-img_data/val/fire/img_123.jpg  \n",
            "  inflating: fire-img_data/val/fire/img_124.jpg  \n",
            "  inflating: fire-img_data/val/fire/img_125.jpg  \n",
            "  inflating: fire-img_data/val/fire/img_126.jpg  \n",
            "  inflating: fire-img_data/val/fire/img_127.jpg  \n",
            "  inflating: fire-img_data/val/fire/img_128.jpg  \n",
            "  inflating: fire-img_data/val/fire/img_129.jpg  \n",
            "  inflating: fire-img_data/val/fire/img_130.jpg  \n",
            "  inflating: fire-img_data/val/fire/img_131.jpg  \n",
            "  inflating: fire-img_data/val/fire/img_134.jpg  \n",
            "  inflating: fire-img_data/val/fire/img_135.jpg  \n",
            "  inflating: fire-img_data/val/fire/img_136.jpg  \n",
            "  inflating: fire-img_data/val/fire/img_139.jpg  \n",
            "  inflating: fire-img_data/val/fire/img_140.jpg  \n",
            "  inflating: fire-img_data/val/fire/img_141.jpg  \n",
            "  inflating: fire-img_data/val/fire/img_142.jpg  \n",
            "  inflating: fire-img_data/val/fire/img_143.jpg  \n",
            "  inflating: fire-img_data/val/fire/img_144.jpg  \n",
            "  inflating: fire-img_data/val/fire/img_145.jpg  \n",
            "  inflating: fire-img_data/val/fire/img_146.jpg  \n",
            "  inflating: fire-img_data/val/fire/img_212.jpg  \n",
            "  inflating: fire-img_data/val/fire/img_213.jpg  \n",
            "  inflating: fire-img_data/val/fire/img_214.jpg  \n",
            "  inflating: fire-img_data/val/fire/img_215.jpg  \n",
            "  inflating: fire-img_data/val/fire/img_216.jpg  \n",
            "  inflating: fire-img_data/val/fire/img_224.jpg  \n",
            "  inflating: fire-img_data/val/fire/img_225.jpg  \n",
            "  inflating: fire-img_data/val/fire/img_226.jpg  \n",
            "  inflating: fire-img_data/val/fire/img_240.jpg  \n",
            "  inflating: fire-img_data/val/fire/img_241.jpg  \n",
            "  inflating: fire-img_data/val/fire/img_242.jpg  \n",
            "  inflating: fire-img_data/val/fire/img_243.jpg  \n",
            "  inflating: fire-img_data/val/fire/img_244.jpg  \n",
            "  inflating: fire-img_data/val/fire/img_245.jpg  \n",
            "  inflating: fire-img_data/val/fire/img_258.jpg  \n",
            "  inflating: fire-img_data/val/fire/img_259.jpg  \n",
            "  inflating: fire-img_data/val/fire/img_260.jpg  \n",
            "  inflating: fire-img_data/val/fire/img_261.jpg  \n",
            "  inflating: fire-img_data/val/fire/img_262.jpg  \n",
            "  inflating: fire-img_data/val/fire/img_263.jpg  \n",
            "   creating: fire-img_data/val/smoke/\n",
            "  inflating: fire-img_data/val/smoke/img_264.jpg  \n",
            "  inflating: fire-img_data/val/smoke/img_310.jpg  \n",
            "  inflating: fire-img_data/val/smoke/img_311.jpg  \n",
            "  inflating: fire-img_data/val/smoke/img_312.jpg  \n",
            "  inflating: fire-img_data/val/smoke/img_313.jpg  \n",
            "  inflating: fire-img_data/val/smoke/img_314.jpg  \n",
            "  inflating: fire-img_data/val/smoke/img_315.jpg  \n",
            "  inflating: fire-img_data/val/smoke/img_316.jpg  \n",
            "  inflating: fire-img_data/val/smoke/img_317.jpg  \n",
            "  inflating: fire-img_data/val/smoke/img_318.jpg  \n",
            "  inflating: fire-img_data/val/smoke/img_319.jpg  \n",
            "  inflating: fire-img_data/val/smoke/img_320.jpg  \n",
            "  inflating: fire-img_data/val/smoke/img_321.jpg  \n",
            "  inflating: fire-img_data/val/smoke/img_322.jpg  \n",
            "  inflating: fire-img_data/val/smoke/img_323.jpg  \n",
            "  inflating: fire-img_data/val/smoke/img_324.jpg  \n",
            "  inflating: fire-img_data/val/smoke/img_325.jpg  \n",
            "  inflating: fire-img_data/val/smoke/img_326.jpg  \n",
            "  inflating: fire-img_data/val/smoke/img_327.jpg  \n",
            "  inflating: fire-img_data/val/smoke/img_328.jpg  \n",
            "  inflating: fire-img_data/val/smoke/img_329.jpg  \n",
            "  inflating: fire-img_data/val/smoke/img_330.jpg  \n",
            "  inflating: fire-img_data/val/smoke/img_331.jpg  \n",
            "  inflating: fire-img_data/val/smoke/img_332.jpg  \n",
            "  inflating: fire-img_data/val/smoke/img_333.jpg  \n",
            "  inflating: fire-img_data/val/smoke/img_334.jpg  \n",
            "  inflating: fire-img_data/val/smoke/img_359.jpg  \n",
            "  inflating: fire-img_data/val/smoke/img_360.jpg  \n",
            "  inflating: fire-img_data/val/smoke/img_361.jpg  \n",
            "  inflating: fire-img_data/val/smoke/img_362.jpg  \n"
          ]
        }
      ]
    },
    {
      "cell_type": "code",
      "source": [
        "from ultralytics import YOLO"
      ],
      "metadata": {
        "colab": {
          "base_uri": "https://localhost:8080/"
        },
        "id": "374aiZZ9u5jp",
        "outputId": "d320350d-acbc-4547-e840-b7b8574afa1a"
      },
      "execution_count": 4,
      "outputs": [
        {
          "output_type": "stream",
          "name": "stdout",
          "text": [
            "Creating new Ultralytics Settings v0.0.6 file ✅ \n",
            "View Ultralytics Settings with 'yolo settings' or at '/root/.config/Ultralytics/settings.json'\n",
            "Update Settings with 'yolo settings key=value', i.e. 'yolo settings runs_dir=path/to/dir'. For help see https://docs.ultralytics.com/quickstart/#ultralytics-settings.\n"
          ]
        }
      ]
    },
    {
      "cell_type": "code",
      "source": [
        "import shutil\n",
        "shutil.rmtree('/content/runs', ignore_errors=True)"
      ],
      "metadata": {
        "id": "PCilLziOwZkw"
      },
      "execution_count": 6,
      "outputs": []
    },
    {
      "cell_type": "code",
      "source": [
        "model = YOLO('yolo11m-cls.pt')\n",
        "\n",
        "# Train\n",
        "results = model.train(\n",
        "    data='/content/fire-img_data',   # Path to classification dataset root\n",
        "    epochs=30,                       # Enough for convergence\n",
        "    imgsz=224,                       # Standard for YOLO classification\n",
        "    batch=32,                        # Increase if GPU memory allows\n",
        "    optimizer='AdamW',               # Better regularization than Adam\n",
        "    lr0=1e-4,                         # Lower LR for stability\n",
        "    dropout=0.2,                      # Helps prevent overfitting\n",
        "    seed=42,                          # Reproducibility\n",
        "    name='fire_classification_yolo11m',\n",
        "    verbose=True\n",
        ")\n",
        "\n",
        "print(\"Training completed successfully!\")"
      ],
      "metadata": {
        "colab": {
          "base_uri": "https://localhost:8080/"
        },
        "id": "-5T1iFQMvFZ_",
        "outputId": "8dd12a01-13fc-4f61-f97a-c113b8208fa5"
      },
      "execution_count": 7,
      "outputs": [
        {
          "output_type": "stream",
          "name": "stderr",
          "text": [
            "Downloading https://github.com/ultralytics/assets/releases/download/v8.3.0/yolo11m-cls.pt to 'yolo11m-cls.pt': 100%|██████████| 22.4M/22.4M [00:00<00:00, 24.6MB/s]\n"
          ]
        },
        {
          "output_type": "stream",
          "name": "stdout",
          "text": [
            "Ultralytics 8.3.177 🚀 Python-3.11.13 torch-2.6.0+cu124 CUDA:0 (Tesla T4, 15095MiB)\n",
            "\u001b[34m\u001b[1mengine/trainer: \u001b[0magnostic_nms=False, amp=True, augment=False, auto_augment=randaugment, batch=32, bgr=0.0, box=7.5, cache=False, cfg=None, classes=None, close_mosaic=10, cls=0.5, conf=None, copy_paste=0.0, copy_paste_mode=flip, cos_lr=False, cutmix=0.0, data=/content/fire-img_data, degrees=0.0, deterministic=True, device=None, dfl=1.5, dnn=False, dropout=0.2, dynamic=False, embed=None, epochs=30, erasing=0.4, exist_ok=False, fliplr=0.5, flipud=0.0, format=torchscript, fraction=1.0, freeze=None, half=False, hsv_h=0.015, hsv_s=0.7, hsv_v=0.4, imgsz=224, int8=False, iou=0.7, keras=False, kobj=1.0, line_width=None, lr0=0.0001, lrf=0.01, mask_ratio=4, max_det=300, mixup=0.0, mode=train, model=yolo11m-cls.pt, momentum=0.937, mosaic=1.0, multi_scale=False, name=fire_classification_yolo11m, nbs=64, nms=False, opset=None, optimize=False, optimizer=AdamW, overlap_mask=True, patience=100, perspective=0.0, plots=True, pose=12.0, pretrained=True, profile=False, project=None, rect=False, resume=False, retina_masks=False, save=True, save_conf=False, save_crop=False, save_dir=runs/classify/fire_classification_yolo11m, save_frames=False, save_json=False, save_period=-1, save_txt=False, scale=0.5, seed=42, shear=0.0, show=False, show_boxes=True, show_conf=True, show_labels=True, simplify=True, single_cls=False, source=None, split=val, stream_buffer=False, task=classify, time=None, tracker=botsort.yaml, translate=0.1, val=True, verbose=True, vid_stride=1, visualize=False, warmup_bias_lr=0.1, warmup_epochs=3.0, warmup_momentum=0.8, weight_decay=0.0005, workers=8, workspace=None\n",
            "\u001b[34m\u001b[1mtrain:\u001b[0m /content/fire-img_data/train... found 693 images in 3 classes ✅ \n",
            "\u001b[34m\u001b[1mval:\u001b[0m /content/fire-img_data/val... found 171 images in 3 classes ✅ \n",
            "\u001b[34m\u001b[1mtest:\u001b[0m None...\n",
            "Overriding model.yaml nc=80 with nc=3\n",
            "\n",
            "                   from  n    params  module                                       arguments                     \n",
            "  0                  -1  1      1856  ultralytics.nn.modules.conv.Conv             [3, 64, 3, 2]                 \n",
            "  1                  -1  1     73984  ultralytics.nn.modules.conv.Conv             [64, 128, 3, 2]               \n",
            "  2                  -1  1    111872  ultralytics.nn.modules.block.C3k2            [128, 256, 1, True, 0.25]     \n",
            "  3                  -1  1    590336  ultralytics.nn.modules.conv.Conv             [256, 256, 3, 2]              \n",
            "  4                  -1  1    444928  ultralytics.nn.modules.block.C3k2            [256, 512, 1, True, 0.25]     \n",
            "  5                  -1  1   2360320  ultralytics.nn.modules.conv.Conv             [512, 512, 3, 2]              \n",
            "  6                  -1  1   1380352  ultralytics.nn.modules.block.C3k2            [512, 512, 1, True]           \n",
            "  7                  -1  1   2360320  ultralytics.nn.modules.conv.Conv             [512, 512, 3, 2]              \n",
            "  8                  -1  1   1380352  ultralytics.nn.modules.block.C3k2            [512, 512, 1, True]           \n",
            "  9                  -1  1    990976  ultralytics.nn.modules.block.C2PSA           [512, 512, 1]                 \n",
            " 10                  -1  1    661763  ultralytics.nn.modules.head.Classify         [512, 3]                      \n",
            "YOLO11m-cls summary: 106 layers, 10,357,059 parameters, 10,357,059 gradients, 39.6 GFLOPs\n",
            "Transferred 294/296 items from pretrained weights\n",
            "\u001b[34m\u001b[1mAMP: \u001b[0mrunning Automatic Mixed Precision (AMP) checks...\n"
          ]
        },
        {
          "output_type": "stream",
          "name": "stderr",
          "text": [
            "Downloading https://github.com/ultralytics/assets/releases/download/v8.3.0/yolo11n.pt to 'yolo11n.pt': 100%|██████████| 5.35M/5.35M [00:00<00:00, 15.0MB/s]\n"
          ]
        },
        {
          "output_type": "stream",
          "name": "stdout",
          "text": [
            "\u001b[34m\u001b[1mAMP: \u001b[0mchecks passed ✅\n",
            "\u001b[34m\u001b[1mtrain: \u001b[0mFast image access ✅ (ping: 0.0±0.0 ms, read: 1007.3±642.0 MB/s, size: 23.5 KB)\n"
          ]
        },
        {
          "output_type": "stream",
          "name": "stderr",
          "text": [
            "\u001b[34m\u001b[1mtrain: \u001b[0mScanning /content/fire-img_data/train... 693 images, 0 corrupt: 100%|██████████| 693/693 [00:00<00:00, 6079.01it/s]"
          ]
        },
        {
          "output_type": "stream",
          "name": "stdout",
          "text": [
            "\u001b[34m\u001b[1mtrain: \u001b[0mNew cache created: /content/fire-img_data/train.cache\n"
          ]
        },
        {
          "output_type": "stream",
          "name": "stderr",
          "text": [
            "\n"
          ]
        },
        {
          "output_type": "stream",
          "name": "stdout",
          "text": [
            "\u001b[34m\u001b[1mval: \u001b[0mFast image access ✅ (ping: 0.0±0.0 ms, read: 195.1±137.9 MB/s, size: 13.5 KB)\n"
          ]
        },
        {
          "output_type": "stream",
          "name": "stderr",
          "text": [
            "\u001b[34m\u001b[1mval: \u001b[0mScanning /content/fire-img_data/val... 171 images, 0 corrupt: 100%|██████████| 171/171 [00:00<00:00, 2979.56it/s]"
          ]
        },
        {
          "output_type": "stream",
          "name": "stdout",
          "text": [
            "\u001b[34m\u001b[1mval: \u001b[0mNew cache created: /content/fire-img_data/val.cache\n"
          ]
        },
        {
          "output_type": "stream",
          "name": "stderr",
          "text": [
            "\n"
          ]
        },
        {
          "output_type": "stream",
          "name": "stdout",
          "text": [
            "\u001b[34m\u001b[1moptimizer:\u001b[0m AdamW(lr=0.0001, momentum=0.937) with parameter groups 49 weight(decay=0.0), 50 weight(decay=0.0005), 50 bias(decay=0.0)\n",
            "Image sizes 224 train, 224 val\n",
            "Using 2 dataloader workers\n",
            "Logging results to \u001b[1mruns/classify/fire_classification_yolo11m\u001b[0m\n",
            "Starting training for 30 epochs...\n",
            "\n",
            "      Epoch    GPU_mem       loss  Instances       Size\n"
          ]
        },
        {
          "output_type": "stream",
          "name": "stderr",
          "text": [
            "       1/30      1.45G     0.7287         21        224: 100%|██████████| 22/22 [00:04<00:00,  4.61it/s]\n",
            "               classes   top1_acc   top5_acc: 100%|██████████| 3/3 [00:00<00:00,  9.77it/s]"
          ]
        },
        {
          "output_type": "stream",
          "name": "stdout",
          "text": [
            "                   all      0.351          1\n"
          ]
        },
        {
          "output_type": "stream",
          "name": "stderr",
          "text": [
            "\n"
          ]
        },
        {
          "output_type": "stream",
          "name": "stdout",
          "text": [
            "\n",
            "      Epoch    GPU_mem       loss  Instances       Size\n"
          ]
        },
        {
          "output_type": "stream",
          "name": "stderr",
          "text": [
            "       2/30      1.81G     0.3242         21        224: 100%|██████████| 22/22 [00:04<00:00,  4.60it/s]\n",
            "               classes   top1_acc   top5_acc: 100%|██████████| 3/3 [00:00<00:00, 12.78it/s]"
          ]
        },
        {
          "output_type": "stream",
          "name": "stdout",
          "text": [
            "                   all      0.655          1\n"
          ]
        },
        {
          "output_type": "stream",
          "name": "stderr",
          "text": [
            "\n"
          ]
        },
        {
          "output_type": "stream",
          "name": "stdout",
          "text": [
            "\n",
            "      Epoch    GPU_mem       loss  Instances       Size\n"
          ]
        },
        {
          "output_type": "stream",
          "name": "stderr",
          "text": [
            "       3/30      1.84G     0.2396         21        224: 100%|██████████| 22/22 [00:03<00:00,  6.33it/s]\n",
            "               classes   top1_acc   top5_acc: 100%|██████████| 3/3 [00:00<00:00, 14.71it/s]"
          ]
        },
        {
          "output_type": "stream",
          "name": "stdout",
          "text": [
            "                   all      0.702          1\n"
          ]
        },
        {
          "output_type": "stream",
          "name": "stderr",
          "text": [
            "\n"
          ]
        },
        {
          "output_type": "stream",
          "name": "stdout",
          "text": [
            "\n",
            "      Epoch    GPU_mem       loss  Instances       Size\n"
          ]
        },
        {
          "output_type": "stream",
          "name": "stderr",
          "text": [
            "       4/30      1.87G     0.1745         21        224: 100%|██████████| 22/22 [00:03<00:00,  6.06it/s]\n",
            "               classes   top1_acc   top5_acc: 100%|██████████| 3/3 [00:00<00:00, 12.40it/s]"
          ]
        },
        {
          "output_type": "stream",
          "name": "stdout",
          "text": [
            "                   all      0.684          1\n"
          ]
        },
        {
          "output_type": "stream",
          "name": "stderr",
          "text": [
            "\n"
          ]
        },
        {
          "output_type": "stream",
          "name": "stdout",
          "text": [
            "\n",
            "      Epoch    GPU_mem       loss  Instances       Size\n"
          ]
        },
        {
          "output_type": "stream",
          "name": "stderr",
          "text": [
            "       5/30      1.89G     0.1393         21        224: 100%|██████████| 22/22 [00:03<00:00,  5.70it/s]\n",
            "               classes   top1_acc   top5_acc: 100%|██████████| 3/3 [00:00<00:00, 14.73it/s]"
          ]
        },
        {
          "output_type": "stream",
          "name": "stdout",
          "text": [
            "                   all      0.602          1\n"
          ]
        },
        {
          "output_type": "stream",
          "name": "stderr",
          "text": [
            "\n"
          ]
        },
        {
          "output_type": "stream",
          "name": "stdout",
          "text": [
            "\n",
            "      Epoch    GPU_mem       loss  Instances       Size\n"
          ]
        },
        {
          "output_type": "stream",
          "name": "stderr",
          "text": [
            "       6/30      1.92G     0.1117         21        224: 100%|██████████| 22/22 [00:03<00:00,  6.07it/s]\n",
            "               classes   top1_acc   top5_acc: 100%|██████████| 3/3 [00:00<00:00, 12.72it/s]"
          ]
        },
        {
          "output_type": "stream",
          "name": "stdout",
          "text": [
            "                   all      0.561          1\n"
          ]
        },
        {
          "output_type": "stream",
          "name": "stderr",
          "text": [
            "\n"
          ]
        },
        {
          "output_type": "stream",
          "name": "stdout",
          "text": [
            "\n",
            "      Epoch    GPU_mem       loss  Instances       Size\n"
          ]
        },
        {
          "output_type": "stream",
          "name": "stderr",
          "text": [
            "       7/30      1.94G    0.07514         21        224: 100%|██████████| 22/22 [00:04<00:00,  5.14it/s]\n",
            "               classes   top1_acc   top5_acc: 100%|██████████| 3/3 [00:00<00:00, 15.83it/s]"
          ]
        },
        {
          "output_type": "stream",
          "name": "stdout",
          "text": [
            "                   all      0.585          1\n"
          ]
        },
        {
          "output_type": "stream",
          "name": "stderr",
          "text": [
            "\n"
          ]
        },
        {
          "output_type": "stream",
          "name": "stdout",
          "text": [
            "\n",
            "      Epoch    GPU_mem       loss  Instances       Size\n"
          ]
        },
        {
          "output_type": "stream",
          "name": "stderr",
          "text": [
            "       8/30      1.97G      0.113         21        224: 100%|██████████| 22/22 [00:03<00:00,  6.47it/s]\n",
            "               classes   top1_acc   top5_acc: 100%|██████████| 3/3 [00:00<00:00, 15.60it/s]\n"
          ]
        },
        {
          "output_type": "stream",
          "name": "stdout",
          "text": [
            "                   all       0.62          1\n",
            "\n",
            "      Epoch    GPU_mem       loss  Instances       Size\n"
          ]
        },
        {
          "output_type": "stream",
          "name": "stderr",
          "text": [
            "       9/30      1.99G    0.05723         21        224: 100%|██████████| 22/22 [00:03<00:00,  6.32it/s]\n",
            "               classes   top1_acc   top5_acc: 100%|██████████| 3/3 [00:00<00:00, 14.30it/s]"
          ]
        },
        {
          "output_type": "stream",
          "name": "stdout",
          "text": [
            "                   all      0.573          1\n"
          ]
        },
        {
          "output_type": "stream",
          "name": "stderr",
          "text": [
            "\n"
          ]
        },
        {
          "output_type": "stream",
          "name": "stdout",
          "text": [
            "\n",
            "      Epoch    GPU_mem       loss  Instances       Size\n"
          ]
        },
        {
          "output_type": "stream",
          "name": "stderr",
          "text": [
            "      10/30      2.02G    0.08776         21        224: 100%|██████████| 22/22 [00:04<00:00,  4.68it/s]\n",
            "               classes   top1_acc   top5_acc: 100%|██████████| 3/3 [00:00<00:00, 14.63it/s]"
          ]
        },
        {
          "output_type": "stream",
          "name": "stdout",
          "text": [
            "                   all      0.497          1\n"
          ]
        },
        {
          "output_type": "stream",
          "name": "stderr",
          "text": [
            "\n"
          ]
        },
        {
          "output_type": "stream",
          "name": "stdout",
          "text": [
            "\n",
            "      Epoch    GPU_mem       loss  Instances       Size\n"
          ]
        },
        {
          "output_type": "stream",
          "name": "stderr",
          "text": [
            "      11/30      2.04G    0.06546         21        224: 100%|██████████| 22/22 [00:03<00:00,  6.40it/s]\n",
            "               classes   top1_acc   top5_acc: 100%|██████████| 3/3 [00:00<00:00, 16.86it/s]"
          ]
        },
        {
          "output_type": "stream",
          "name": "stdout",
          "text": [
            "                   all      0.608          1\n"
          ]
        },
        {
          "output_type": "stream",
          "name": "stderr",
          "text": [
            "\n"
          ]
        },
        {
          "output_type": "stream",
          "name": "stdout",
          "text": [
            "\n",
            "      Epoch    GPU_mem       loss  Instances       Size\n"
          ]
        },
        {
          "output_type": "stream",
          "name": "stderr",
          "text": [
            "      12/30      2.06G    0.06407         21        224: 100%|██████████| 22/22 [00:03<00:00,  6.02it/s]\n",
            "               classes   top1_acc   top5_acc: 100%|██████████| 3/3 [00:00<00:00, 11.96it/s]"
          ]
        },
        {
          "output_type": "stream",
          "name": "stdout",
          "text": [
            "                   all      0.632          1\n"
          ]
        },
        {
          "output_type": "stream",
          "name": "stderr",
          "text": [
            "\n"
          ]
        },
        {
          "output_type": "stream",
          "name": "stdout",
          "text": [
            "\n",
            "      Epoch    GPU_mem       loss  Instances       Size\n"
          ]
        },
        {
          "output_type": "stream",
          "name": "stderr",
          "text": [
            "      13/30      2.09G    0.05534         21        224: 100%|██████████| 22/22 [00:04<00:00,  5.36it/s]\n",
            "               classes   top1_acc   top5_acc: 100%|██████████| 3/3 [00:00<00:00, 15.11it/s]"
          ]
        },
        {
          "output_type": "stream",
          "name": "stdout",
          "text": [
            "                   all      0.626          1\n"
          ]
        },
        {
          "output_type": "stream",
          "name": "stderr",
          "text": [
            "\n"
          ]
        },
        {
          "output_type": "stream",
          "name": "stdout",
          "text": [
            "\n",
            "      Epoch    GPU_mem       loss  Instances       Size\n"
          ]
        },
        {
          "output_type": "stream",
          "name": "stderr",
          "text": [
            "      14/30      2.24G    0.04897         21        224: 100%|██████████| 22/22 [00:03<00:00,  6.44it/s]\n",
            "               classes   top1_acc   top5_acc: 100%|██████████| 3/3 [00:00<00:00, 17.56it/s]"
          ]
        },
        {
          "output_type": "stream",
          "name": "stdout",
          "text": [
            "                   all      0.655          1\n"
          ]
        },
        {
          "output_type": "stream",
          "name": "stderr",
          "text": [
            "\n"
          ]
        },
        {
          "output_type": "stream",
          "name": "stdout",
          "text": [
            "\n",
            "      Epoch    GPU_mem       loss  Instances       Size\n"
          ]
        },
        {
          "output_type": "stream",
          "name": "stderr",
          "text": [
            "      15/30      2.27G    0.06324         21        224: 100%|██████████| 22/22 [00:04<00:00,  5.47it/s]\n",
            "               classes   top1_acc   top5_acc: 100%|██████████| 3/3 [00:00<00:00, 12.52it/s]"
          ]
        },
        {
          "output_type": "stream",
          "name": "stdout",
          "text": [
            "                   all      0.655          1\n"
          ]
        },
        {
          "output_type": "stream",
          "name": "stderr",
          "text": [
            "\n"
          ]
        },
        {
          "output_type": "stream",
          "name": "stdout",
          "text": [
            "\n",
            "      Epoch    GPU_mem       loss  Instances       Size\n"
          ]
        },
        {
          "output_type": "stream",
          "name": "stderr",
          "text": [
            "      16/30      2.29G    0.04959         21        224: 100%|██████████| 22/22 [00:03<00:00,  6.37it/s]\n",
            "               classes   top1_acc   top5_acc: 100%|██████████| 3/3 [00:00<00:00, 12.20it/s]"
          ]
        },
        {
          "output_type": "stream",
          "name": "stdout",
          "text": [
            "                   all      0.643          1\n"
          ]
        },
        {
          "output_type": "stream",
          "name": "stderr",
          "text": [
            "\n"
          ]
        },
        {
          "output_type": "stream",
          "name": "stdout",
          "text": [
            "\n",
            "      Epoch    GPU_mem       loss  Instances       Size\n"
          ]
        },
        {
          "output_type": "stream",
          "name": "stderr",
          "text": [
            "      17/30      2.32G    0.04101         21        224: 100%|██████████| 22/22 [00:03<00:00,  6.37it/s]\n",
            "               classes   top1_acc   top5_acc: 100%|██████████| 3/3 [00:00<00:00, 12.99it/s]"
          ]
        },
        {
          "output_type": "stream",
          "name": "stdout",
          "text": [
            "                   all      0.637          1\n"
          ]
        },
        {
          "output_type": "stream",
          "name": "stderr",
          "text": [
            "\n"
          ]
        },
        {
          "output_type": "stream",
          "name": "stdout",
          "text": [
            "\n",
            "      Epoch    GPU_mem       loss  Instances       Size\n"
          ]
        },
        {
          "output_type": "stream",
          "name": "stderr",
          "text": [
            "      18/30      2.38G    0.04765         21        224: 100%|██████████| 22/22 [00:05<00:00,  3.96it/s]\n",
            "               classes   top1_acc   top5_acc: 100%|██████████| 3/3 [00:00<00:00, 10.65it/s]"
          ]
        },
        {
          "output_type": "stream",
          "name": "stdout",
          "text": [
            "                   all      0.684          1\n"
          ]
        },
        {
          "output_type": "stream",
          "name": "stderr",
          "text": [
            "\n"
          ]
        },
        {
          "output_type": "stream",
          "name": "stdout",
          "text": [
            "\n",
            "      Epoch    GPU_mem       loss  Instances       Size\n"
          ]
        },
        {
          "output_type": "stream",
          "name": "stderr",
          "text": [
            "      19/30      2.44G    0.05455         21        224: 100%|██████████| 22/22 [00:03<00:00,  6.05it/s]\n",
            "               classes   top1_acc   top5_acc: 100%|██████████| 3/3 [00:00<00:00, 15.07it/s]"
          ]
        },
        {
          "output_type": "stream",
          "name": "stdout",
          "text": [
            "                   all      0.678          1\n"
          ]
        },
        {
          "output_type": "stream",
          "name": "stderr",
          "text": [
            "\n"
          ]
        },
        {
          "output_type": "stream",
          "name": "stdout",
          "text": [
            "\n",
            "      Epoch    GPU_mem       loss  Instances       Size\n"
          ]
        },
        {
          "output_type": "stream",
          "name": "stderr",
          "text": [
            "      20/30      2.59G    0.05089         21        224: 100%|██████████| 22/22 [00:03<00:00,  6.41it/s]\n",
            "               classes   top1_acc   top5_acc: 100%|██████████| 3/3 [00:00<00:00, 17.03it/s]"
          ]
        },
        {
          "output_type": "stream",
          "name": "stdout",
          "text": [
            "                   all      0.643          1\n"
          ]
        },
        {
          "output_type": "stream",
          "name": "stderr",
          "text": [
            "\n"
          ]
        },
        {
          "output_type": "stream",
          "name": "stdout",
          "text": [
            "\n",
            "      Epoch    GPU_mem       loss  Instances       Size\n"
          ]
        },
        {
          "output_type": "stream",
          "name": "stderr",
          "text": [
            "      21/30      2.61G    0.03257         21        224: 100%|██████████| 22/22 [00:05<00:00,  4.20it/s]\n",
            "               classes   top1_acc   top5_acc: 100%|██████████| 3/3 [00:00<00:00, 15.63it/s]\n"
          ]
        },
        {
          "output_type": "stream",
          "name": "stdout",
          "text": [
            "                   all      0.596          1\n",
            "\n",
            "      Epoch    GPU_mem       loss  Instances       Size\n"
          ]
        },
        {
          "output_type": "stream",
          "name": "stderr",
          "text": [
            "      22/30      2.64G    0.05401         21        224: 100%|██████████| 22/22 [00:03<00:00,  6.36it/s]\n",
            "               classes   top1_acc   top5_acc: 100%|██████████| 3/3 [00:00<00:00, 15.04it/s]"
          ]
        },
        {
          "output_type": "stream",
          "name": "stdout",
          "text": [
            "                   all      0.632          1\n"
          ]
        },
        {
          "output_type": "stream",
          "name": "stderr",
          "text": [
            "\n"
          ]
        },
        {
          "output_type": "stream",
          "name": "stdout",
          "text": [
            "\n",
            "      Epoch    GPU_mem       loss  Instances       Size\n"
          ]
        },
        {
          "output_type": "stream",
          "name": "stderr",
          "text": [
            "      23/30      2.68G    0.03755         21        224: 100%|██████████| 22/22 [00:03<00:00,  5.63it/s]\n",
            "               classes   top1_acc   top5_acc: 100%|██████████| 3/3 [00:00<00:00, 11.66it/s]"
          ]
        },
        {
          "output_type": "stream",
          "name": "stdout",
          "text": [
            "                   all      0.608          1\n"
          ]
        },
        {
          "output_type": "stream",
          "name": "stderr",
          "text": [
            "\n"
          ]
        },
        {
          "output_type": "stream",
          "name": "stdout",
          "text": [
            "\n",
            "      Epoch    GPU_mem       loss  Instances       Size\n"
          ]
        },
        {
          "output_type": "stream",
          "name": "stderr",
          "text": [
            "      24/30      2.74G    0.04581         21        224: 100%|██████████| 22/22 [00:03<00:00,  5.95it/s]\n",
            "               classes   top1_acc   top5_acc: 100%|██████████| 3/3 [00:00<00:00, 16.48it/s]"
          ]
        },
        {
          "output_type": "stream",
          "name": "stdout",
          "text": [
            "                   all      0.626          1\n"
          ]
        },
        {
          "output_type": "stream",
          "name": "stderr",
          "text": [
            "\n"
          ]
        },
        {
          "output_type": "stream",
          "name": "stdout",
          "text": [
            "\n",
            "      Epoch    GPU_mem       loss  Instances       Size\n"
          ]
        },
        {
          "output_type": "stream",
          "name": "stderr",
          "text": [
            "      25/30       2.9G    0.04114         21        224: 100%|██████████| 22/22 [00:03<00:00,  6.16it/s]\n",
            "               classes   top1_acc   top5_acc: 100%|██████████| 3/3 [00:00<00:00, 16.06it/s]"
          ]
        },
        {
          "output_type": "stream",
          "name": "stdout",
          "text": [
            "                   all      0.649          1\n"
          ]
        },
        {
          "output_type": "stream",
          "name": "stderr",
          "text": [
            "\n"
          ]
        },
        {
          "output_type": "stream",
          "name": "stdout",
          "text": [
            "\n",
            "      Epoch    GPU_mem       loss  Instances       Size\n"
          ]
        },
        {
          "output_type": "stream",
          "name": "stderr",
          "text": [
            "      26/30      2.92G    0.03438         21        224: 100%|██████████| 22/22 [00:04<00:00,  4.79it/s]\n",
            "               classes   top1_acc   top5_acc: 100%|██████████| 3/3 [00:00<00:00, 13.83it/s]"
          ]
        },
        {
          "output_type": "stream",
          "name": "stdout",
          "text": [
            "                   all      0.608          1\n"
          ]
        },
        {
          "output_type": "stream",
          "name": "stderr",
          "text": [
            "\n"
          ]
        },
        {
          "output_type": "stream",
          "name": "stdout",
          "text": [
            "\n",
            "      Epoch    GPU_mem       loss  Instances       Size\n"
          ]
        },
        {
          "output_type": "stream",
          "name": "stderr",
          "text": [
            "      27/30      2.95G    0.03243         21        224: 100%|██████████| 22/22 [00:03<00:00,  6.20it/s]\n",
            "               classes   top1_acc   top5_acc: 100%|██████████| 3/3 [00:00<00:00, 16.57it/s]"
          ]
        },
        {
          "output_type": "stream",
          "name": "stdout",
          "text": [
            "                   all       0.62          1\n"
          ]
        },
        {
          "output_type": "stream",
          "name": "stderr",
          "text": [
            "\n"
          ]
        },
        {
          "output_type": "stream",
          "name": "stdout",
          "text": [
            "\n",
            "      Epoch    GPU_mem       loss  Instances       Size\n"
          ]
        },
        {
          "output_type": "stream",
          "name": "stderr",
          "text": [
            "      28/30      2.97G    0.03167         21        224: 100%|██████████| 22/22 [00:03<00:00,  6.07it/s]\n",
            "               classes   top1_acc   top5_acc: 100%|██████████| 3/3 [00:00<00:00, 17.67it/s]"
          ]
        },
        {
          "output_type": "stream",
          "name": "stdout",
          "text": [
            "                   all      0.632          1\n"
          ]
        },
        {
          "output_type": "stream",
          "name": "stderr",
          "text": [
            "\n"
          ]
        },
        {
          "output_type": "stream",
          "name": "stdout",
          "text": [
            "\n",
            "      Epoch    GPU_mem       loss  Instances       Size\n"
          ]
        },
        {
          "output_type": "stream",
          "name": "stderr",
          "text": [
            "      29/30      3.16G    0.04647         21        224: 100%|██████████| 22/22 [00:04<00:00,  4.65it/s]\n",
            "               classes   top1_acc   top5_acc: 100%|██████████| 3/3 [00:00<00:00, 16.56it/s]"
          ]
        },
        {
          "output_type": "stream",
          "name": "stdout",
          "text": [
            "                   all      0.643          1\n"
          ]
        },
        {
          "output_type": "stream",
          "name": "stderr",
          "text": [
            "\n"
          ]
        },
        {
          "output_type": "stream",
          "name": "stdout",
          "text": [
            "\n",
            "      Epoch    GPU_mem       loss  Instances       Size\n"
          ]
        },
        {
          "output_type": "stream",
          "name": "stderr",
          "text": [
            "      30/30      3.18G    0.03473         21        224: 100%|██████████| 22/22 [00:03<00:00,  6.14it/s]\n",
            "               classes   top1_acc   top5_acc: 100%|██████████| 3/3 [00:00<00:00, 15.40it/s]"
          ]
        },
        {
          "output_type": "stream",
          "name": "stdout",
          "text": [
            "                   all      0.661          1\n"
          ]
        },
        {
          "output_type": "stream",
          "name": "stderr",
          "text": [
            "\n"
          ]
        },
        {
          "output_type": "stream",
          "name": "stdout",
          "text": [
            "\n",
            "30 epochs completed in 0.041 hours.\n",
            "Optimizer stripped from runs/classify/fire_classification_yolo11m/weights/last.pt, 20.9MB\n",
            "Optimizer stripped from runs/classify/fire_classification_yolo11m/weights/best.pt, 20.9MB\n",
            "\n",
            "Validating runs/classify/fire_classification_yolo11m/weights/best.pt...\n",
            "Ultralytics 8.3.177 🚀 Python-3.11.13 torch-2.6.0+cu124 CUDA:0 (Tesla T4, 15095MiB)\n",
            "YOLO11m-cls summary (fused): 57 layers, 10,345,475 parameters, 0 gradients, 39.3 GFLOPs\n",
            "\u001b[34m\u001b[1mtrain:\u001b[0m /content/fire-img_data/train... found 693 images in 3 classes ✅ \n",
            "\u001b[34m\u001b[1mval:\u001b[0m /content/fire-img_data/val... found 171 images in 3 classes ✅ \n",
            "\u001b[34m\u001b[1mtest:\u001b[0m None...\n"
          ]
        },
        {
          "output_type": "stream",
          "name": "stderr",
          "text": [
            "               classes   top1_acc   top5_acc: 100%|██████████| 3/3 [00:00<00:00, 12.73it/s]\n"
          ]
        },
        {
          "output_type": "stream",
          "name": "stdout",
          "text": [
            "                   all      0.702          1\n",
            "Speed: 0.1ms preprocess, 0.9ms inference, 0.0ms loss, 0.0ms postprocess per image\n",
            "Results saved to \u001b[1mruns/classify/fire_classification_yolo11m\u001b[0m\n",
            "Training completed successfully!\n"
          ]
        }
      ]
    },
    {
      "cell_type": "code",
      "source": [
        "from ultralytics import YOLO\n",
        "\n",
        "# Load the best model\n",
        "model = YOLO('runs/classify/fire_classification_yolo11m/weights/best.pt')\n",
        "\n",
        "# Predict on a single image\n",
        "results = model.predict('/content/fire-img_data/val/fire/img_103.jpg')\n",
        "\n",
        "# Show results\n",
        "for r in results:\n",
        "    r.show()       # Display in Colab\n",
        "    print(r.names) # Class labels mapping\n",
        "    print(r.probs) # Probabilities per class\n",
        "\n",
        "result = results[0]\n",
        "pred_class = result.names[result.probs.top1]\n",
        "pred_conf = result.probs.top1conf.item()\n",
        "print(f\"Prediction: {pred_class} ({pred_conf:.2%} confidence)\")\n",
        "\n"
      ],
      "metadata": {
        "colab": {
          "base_uri": "https://localhost:8080/",
          "height": 484
        },
        "id": "i2ONDByKx4_R",
        "outputId": "b54449d1-197e-4a35-93d6-5eb314bd456e"
      },
      "execution_count": 9,
      "outputs": [
        {
          "output_type": "stream",
          "name": "stdout",
          "text": [
            "\n",
            "image 1/1 /content/fire-img_data/val/fire/img_103.jpg: 224x224 fire 0.89, smoke 0.11, default 0.01, 8.7ms\n",
            "Speed: 1.6ms preprocess, 8.7ms inference, 0.0ms postprocess per image at shape (1, 3, 224, 224)\n"
          ]
        },
        {
          "output_type": "display_data",
          "data": {
            "text/plain": [
              "<PIL.Image.Image image mode=RGB size=224x224>"
            ],
            "image/png": "[encoded data removed]",
            "image/jpeg": "[encoded data removed]"
          },
          "metadata": {}
        },
        {
          "output_type": "stream",
          "name": "stdout",
          "text": [
            "{0: 'default', 1: 'fire', 2: 'smoke'}\n",
            "ultralytics.engine.results.Probs object with attributes:\n",
            "\n",
            "data: tensor([0.0060, 0.8879, 0.1061], device='cuda:0')\n",
            "orig_shape: None\n",
            "shape: torch.Size([3])\n",
            "top1: 1\n",
            "top1conf: tensor(0.8879, device='cuda:0')\n",
            "top5: [1, 2, 0]\n",
            "top5conf: tensor([0.8879, 0.1061, 0.0060], device='cuda:0')\n",
            "Prediction: fire (88.79% confidence)\n"
          ]
        }
      ]
    },
    {
      "cell_type": "code",
      "source": [
        "from google.colab import files\n",
        "import shutil\n",
        "\n",
        "# Zip your working directory (replace '/content/runs/classify/train' if needed)\n",
        "shutil.make_archive('/content/project_backup', 'zip', '/content')\n",
        "\n",
        "# Download the ZIP\n",
        "files.download('/content/project_backup.zip')\n"
      ],
      "metadata": {
        "colab": {
          "base_uri": "https://localhost:8080/",
          "height": 17
        },
        "id": "OPOdHgiLyeUf",
        "outputId": "ed64d215-944d-4f8a-dbc5-5574d5bcdcd6"
      },
      "execution_count": 11,
      "outputs": [
        {
          "output_type": "display_data",
          "data": {
            "text/plain": [
              "<IPython.core.display.Javascript object>"
            ],
            "application/javascript": [
              "\n",
              "    async function download(id, filename, size) {\n",
              "      if (!google.colab.kernel.accessAllowed) {\n",
              "        return;\n",
              "      }\n",
              "      const div = document.createElement('div');\n",
              "      const label = document.createElement('label');\n",
              "      label.textContent = `Downloading \"${filename}\": `;\n",
              "      div.appendChild(label);\n",
              "      const progress = document.createElement('progress');\n",
              "      progress.max = size;\n",
              "      div.appendChild(progress);\n",
              "      document.body.appendChild(div);\n",
              "\n",
              "      const buffers = [];\n",
              "      let downloaded = 0;\n",
              "\n",
              "      const channel = await google.colab.kernel.comms.open(id);\n",
              "      // Send a message to notify the kernel that we're ready.\n",
              "      channel.send({})\n",
              "\n",
              "      for await (const message of channel.messages) {\n",
              "        // Send a message to notify the kernel that we're ready.\n",
              "        channel.send({})\n",
              "        if (message.buffers) {\n",
              "          for (const buffer of message.buffers) {\n",
              "            buffers.push(buffer);\n",
              "            downloaded += buffer.byteLength;\n",
              "            progress.value = downloaded;\n",
              "          }\n",
              "        }\n",
              "      }\n",
              "      const blob = new Blob(buffers, {type: 'application/binary'});\n",
              "      const a = document.createElement('a');\n",
              "      a.href = window.URL.createObjectURL(blob);\n",
              "      a.download = filename;\n",
              "      div.appendChild(a);\n",
              "      a.click();\n",
              "      div.remove();\n",
              "    }\n",
              "  "
            ]
          },
          "metadata": {}
        },
        {
          "output_type": "display_data",
          "data": {
            "text/plain": [
              "<IPython.core.display.Javascript object>"
            ],
            "application/javascript": [
              "download(\"download_b557bb62-5325-415a-aaff-37c618acd35a\", \"project_backup.zip\", 89842046)"
            ]
          },
          "metadata": {}
        }
      ]
    },
    {
      "cell_type": "code",
      "source": [
        "import os\n",
        "\n",
        "# Path to your runs directory\n",
        "runs_dir = \"/content/runs\"\n",
        "\n",
        "# Walk through the folder structure and print\n",
        "for root, dirs, files in os.walk(runs_dir):\n",
        "    level = root.replace(runs_dir, \"\").count(os.sep)\n",
        "    indent = \" \" * 4 * level\n",
        "    print(f\"{indent}{os.path.basename(root)}/\")\n",
        "    sub_indent = \" \" * 4 * (level + 1)\n",
        "    for f in files:\n",
        "        print(f\"{sub_indent}{f}\")\n"
      ],
      "metadata": {
        "colab": {
          "base_uri": "https://localhost:8080/"
        },
        "id": "dFx-i9dV0GwI",
        "outputId": "dc176aaf-ba1f-41cc-88fa-52a04293575f"
      },
      "execution_count": 13,
      "outputs": [
        {
          "output_type": "stream",
          "name": "stdout",
          "text": [
            "runs/\n",
            "    classify/\n",
            "        fire_classification_yolo11m/\n",
            "            results.png\n",
            "            val_batch2_pred.jpg\n",
            "            confusion_matrix.png\n",
            "            val_batch0_labels.jpg\n",
            "            train_batch1.jpg\n",
            "            train_batch441.jpg\n",
            "            train_batch0.jpg\n",
            "            results.csv\n",
            "            train_batch2.jpg\n",
            "            val_batch1_pred.jpg\n",
            "            val_batch1_labels.jpg\n",
            "            val_batch2_labels.jpg\n",
            "            train_batch442.jpg\n",
            "            val_batch0_pred.jpg\n",
            "            args.yaml\n",
            "            confusion_matrix_normalized.png\n",
            "            train_batch440.jpg\n",
            "            weights/\n",
            "                last.pt\n",
            "                best.pt\n"
          ]
        }
      ]
    },
    {
      "cell_type": "code",
      "source": [
        "# Path to best model (YOLO saves best model as best.pt)\n",
        "from google.colab import files\n",
        "import shutil\n",
        "\n",
        "best_model_path = \"/content/runs/classify/fire_classification_yolo11m/weights/best.pt\"\n",
        "files.download(best_model_path)\n"
      ],
      "metadata": {
        "colab": {
          "base_uri": "https://localhost:8080/",
          "height": 17
        },
        "id": "VT0S1v-3znMH",
        "outputId": "5174a3e0-5ad6-438c-a1ed-067b8f9dcccc"
      },
      "execution_count": 15,
      "outputs": [
        {
          "output_type": "display_data",
          "data": {
            "text/plain": [
              "<IPython.core.display.Javascript object>"
            ],
            "application/javascript": [
              "\n",
              "    async function download(id, filename, size) {\n",
              "      if (!google.colab.kernel.accessAllowed) {\n",
              "        return;\n",
              "      }\n",
              "      const div = document.createElement('div');\n",
              "      const label = document.createElement('label');\n",
              "      label.textContent = `Downloading \"${filename}\": `;\n",
              "      div.appendChild(label);\n",
              "      const progress = document.createElement('progress');\n",
              "      progress.max = size;\n",
              "      div.appendChild(progress);\n",
              "      document.body.appendChild(div);\n",
              "\n",
              "      const buffers = [];\n",
              "      let downloaded = 0;\n",
              "\n",
              "      const channel = await google.colab.kernel.comms.open(id);\n",
              "      // Send a message to notify the kernel that we're ready.\n",
              "      channel.send({})\n",
              "\n",
              "      for await (const message of channel.messages) {\n",
              "        // Send a message to notify the kernel that we're ready.\n",
              "        channel.send({})\n",
              "        if (message.buffers) {\n",
              "          for (const buffer of message.buffers) {\n",
              "            buffers.push(buffer);\n",
              "            downloaded += buffer.byteLength;\n",
              "            progress.value = downloaded;\n",
              "          }\n",
              "        }\n",
              "      }\n",
              "      const blob = new Blob(buffers, {type: 'application/binary'});\n",
              "      const a = document.createElement('a');\n",
              "      a.href = window.URL.createObjectURL(blob);\n",
              "      a.download = filename;\n",
              "      div.appendChild(a);\n",
              "      a.click();\n",
              "      div.remove();\n",
              "    }\n",
              "  "
            ]
          },
          "metadata": {}
        },
        {
          "output_type": "display_data",
          "data": {
            "text/plain": [
              "<IPython.core.display.Javascript object>"
            ],
            "application/javascript": [
              "download(\"download_5dc7b07a-5144-4883-9a1e-3f52db250472\", \"best.pt\", 20878479)"
            ]
          },
          "metadata": {}
        }
      ]
    }
  ]
}