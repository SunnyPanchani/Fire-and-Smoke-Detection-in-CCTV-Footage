{
 "cells": [
  {
   "cell_type": "code",
   "execution_count": 7,
   "id": "bafa7ee4",
   "metadata": {},
   "outputs": [],
   "source": [
    "import gdown\n",
    "import os"
   ]
  },
  {
   "cell_type": "code",
   "execution_count": 8,
   "id": "4c94e482",
   "metadata": {},
   "outputs": [],
   "source": [
    "os.chdir(\"D:/code/1-Github/yolo/Fire and Smoke Detection in CCTV Footage/data\")"
   ]
  },
  {
   "cell_type": "code",
   "execution_count": 9,
   "id": "02fd3de4",
   "metadata": {},
   "outputs": [
    {
     "data": {
      "text/plain": [
       "'D:\\\\code\\\\1-Github\\\\yolo\\\\Fire and Smoke Detection in CCTV Footage\\\\data'"
      ]
     },
     "execution_count": 9,
     "metadata": {},
     "output_type": "execute_result"
    }
   ],
   "source": [
    "%pwd"
   ]
  },
  {
   "cell_type": "code",
   "execution_count": 10,
   "id": "af72be1c",
   "metadata": {},
   "outputs": [],
   "source": [
    "url =\"https://drive.google.com/file/d/1nP2ndtWWXHmz7xzpHd6lwOXplubSX8Qf/view?usp=drive_link\""
   ]
  },
  {
   "cell_type": "code",
   "execution_count": 11,
   "id": "d75fafc1",
   "metadata": {},
   "outputs": [
    {
     "data": {
      "text/plain": [
       "'1nP2ndtWWXHmz7xzpHd6lwOXplubSX8Qf'"
      ]
     },
     "execution_count": 11,
     "metadata": {},
     "output_type": "execute_result"
    }
   ],
   "source": [
    "file_id = url.split('/')[-2]\n",
    "file_id"
   ]
  },
  {
   "cell_type": "code",
   "execution_count": 12,
   "id": "006950ba",
   "metadata": {},
   "outputs": [
    {
     "name": "stderr",
     "output_type": "stream",
     "text": [
      "Downloading...\n",
      "From (original): https://drive.google.com/uc?id=1nP2ndtWWXHmz7xzpHd6lwOXplubSX8Qf\n",
      "From (redirected): https://drive.google.com/uc?id=1nP2ndtWWXHmz7xzpHd6lwOXplubSX8Qf&confirm=t&uuid=f9561095-9ca4-4d25-9ee5-e809babb04d3\n",
      "To: D:\\code\\1-Github\\yolo\\Fire and Smoke Detection in CCTV Footage\\data\\fire_and_smoke_detection.zip\n",
      "100%|██████████| 341M/341M [00:47<00:00, 7.18MB/s] \n"
     ]
    },
    {
     "data": {
      "text/plain": [
       "'fire_and_smoke_detection.zip'"
      ]
     },
     "execution_count": 12,
     "metadata": {},
     "output_type": "execute_result"
    }
   ],
   "source": [
    "prefix = 'https://drive.google.com/uc?id='\n",
    "gdown.download(prefix + file_id, 'fire_and_smoke_detection.zip', quiet=False)"
   ]
  }
 ],
 "metadata": {
  "kernelspec": {
   "display_name": "fire-smoke-yolo",
   "language": "python",
   "name": "python3"
  },
  "language_info": {
   "codemirror_mode": {
    "name": "ipython",
    "version": 3
   },
   "file_extension": ".py",
   "mimetype": "text/x-python",
   "name": "python",
   "nbconvert_exporter": "python",
   "pygments_lexer": "ipython3",
   "version": "3.10.18"
  }
 },
 "nbformat": 4,
 "nbformat_minor": 5
}
